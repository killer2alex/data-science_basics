{
 "cells": [
  {
   "cell_type": "markdown",
   "metadata": {},
   "source": [
    "# Data Wrangling mit Python II\n",
    "\n",
    "Nach der grundlegenden Verwendung von `Series` und `DataFrame` und den `Jupyter-Notebook` gucken wir uns nun deren Einsatz mit Daten ein. Dabei werden wir wie folgt durchgehen:\n",
    "\n",
    "- Ein möglicher Ablauf einer Datenaufbereitung wird durch das Durchgehen dieses Notebooks ermöglicht und kurz mit Teilüberschriften und kurzen Beschreibungen (am Anfang und Ende) beschrieben \n",
    "- Dabei werden die jeweiligen Schritte durch Aufgaben beschrieben, die in Code-Zellen stehen.\n",
    "- Versuche die Aufgaben zunächste selbst mit Hife der Dokumentation und des letzten Notebooks zu lösen.\n",
    "- Solltest du nicht weiterkommen, kannst du in den nächsten Zellen verschiedene Hilfen( enden mit `help`) durch die `%load` Funktion herbeirufen.\n",
    "- Die Lösung der Aufgaben lassen sich dann in dem Load mit Endung `lsg` finden.\n",
    "\n",
    "Wir werden das Vorgehen ganz kurz durchgehen ;-). Hier also der erste Abschnitt, der zu lösen ist. Ich werde dabei weitere Hinweise geben, um das System zu erklären.\n",
    "Die Aufgabe Bild einfügen ist auch weiter unten zu sehen\n",
    "\n",
    "\n",
    "#### Den `%load` Befehl auskommentieren und und die Zelle ausführen, um die Lösung zusehen"
   ]
  },
  {
   "cell_type": "code",
   "execution_count": 7,
   "metadata": {},
   "outputs": [
    {
     "output_type": "display_data",
     "data": {
      "text/plain": "    species     island  culmen_length_mm  culmen_depth_mm  flipper_length_mm  \\\n0    Adelie  Torgersen              39.1             18.7              181.0   \n1    Adelie  Torgersen              39.5             17.4              186.0   \n2    Adelie  Torgersen              40.3             18.0              195.0   \n3    Adelie  Torgersen               NaN              NaN                NaN   \n4    Adelie  Torgersen              36.7             19.3              193.0   \n..      ...        ...               ...              ...                ...   \n339  Gentoo     Biscoe               NaN              NaN                NaN   \n340  Gentoo     Biscoe              46.8             14.3              215.0   \n341  Gentoo     Biscoe              50.4             15.7              222.0   \n342  Gentoo     Biscoe              45.2             14.8              212.0   \n343  Gentoo     Biscoe              49.9             16.1              213.0   \n\n     body_mass_g     sex  \n0         3750.0    MALE  \n1         3800.0  FEMALE  \n2         3250.0  FEMALE  \n3            NaN     NaN  \n4         3450.0  FEMALE  \n..           ...     ...  \n339          NaN     NaN  \n340       4850.0  FEMALE  \n341       5750.0    MALE  \n342       5200.0  FEMALE  \n343       5400.0    MALE  \n\n[344 rows x 7 columns]",
      "text/html": "<div>\n<style scoped>\n    .dataframe tbody tr th:only-of-type {\n        vertical-align: middle;\n    }\n\n    .dataframe tbody tr th {\n        vertical-align: top;\n    }\n\n    .dataframe thead th {\n        text-align: right;\n    }\n</style>\n<table border=\"1\" class=\"dataframe\">\n  <thead>\n    <tr style=\"text-align: right;\">\n      <th></th>\n      <th>species</th>\n      <th>island</th>\n      <th>culmen_length_mm</th>\n      <th>culmen_depth_mm</th>\n      <th>flipper_length_mm</th>\n      <th>body_mass_g</th>\n      <th>sex</th>\n    </tr>\n  </thead>\n  <tbody>\n    <tr>\n      <th>0</th>\n      <td>Adelie</td>\n      <td>Torgersen</td>\n      <td>39.1</td>\n      <td>18.7</td>\n      <td>181.0</td>\n      <td>3750.0</td>\n      <td>MALE</td>\n    </tr>\n    <tr>\n      <th>1</th>\n      <td>Adelie</td>\n      <td>Torgersen</td>\n      <td>39.5</td>\n      <td>17.4</td>\n      <td>186.0</td>\n      <td>3800.0</td>\n      <td>FEMALE</td>\n    </tr>\n    <tr>\n      <th>2</th>\n      <td>Adelie</td>\n      <td>Torgersen</td>\n      <td>40.3</td>\n      <td>18.0</td>\n      <td>195.0</td>\n      <td>3250.0</td>\n      <td>FEMALE</td>\n    </tr>\n    <tr>\n      <th>3</th>\n      <td>Adelie</td>\n      <td>Torgersen</td>\n      <td>NaN</td>\n      <td>NaN</td>\n      <td>NaN</td>\n      <td>NaN</td>\n      <td>NaN</td>\n    </tr>\n    <tr>\n      <th>4</th>\n      <td>Adelie</td>\n      <td>Torgersen</td>\n      <td>36.7</td>\n      <td>19.3</td>\n      <td>193.0</td>\n      <td>3450.0</td>\n      <td>FEMALE</td>\n    </tr>\n    <tr>\n      <th>...</th>\n      <td>...</td>\n      <td>...</td>\n      <td>...</td>\n      <td>...</td>\n      <td>...</td>\n      <td>...</td>\n      <td>...</td>\n    </tr>\n    <tr>\n      <th>339</th>\n      <td>Gentoo</td>\n      <td>Biscoe</td>\n      <td>NaN</td>\n      <td>NaN</td>\n      <td>NaN</td>\n      <td>NaN</td>\n      <td>NaN</td>\n    </tr>\n    <tr>\n      <th>340</th>\n      <td>Gentoo</td>\n      <td>Biscoe</td>\n      <td>46.8</td>\n      <td>14.3</td>\n      <td>215.0</td>\n      <td>4850.0</td>\n      <td>FEMALE</td>\n    </tr>\n    <tr>\n      <th>341</th>\n      <td>Gentoo</td>\n      <td>Biscoe</td>\n      <td>50.4</td>\n      <td>15.7</td>\n      <td>222.0</td>\n      <td>5750.0</td>\n      <td>MALE</td>\n    </tr>\n    <tr>\n      <th>342</th>\n      <td>Gentoo</td>\n      <td>Biscoe</td>\n      <td>45.2</td>\n      <td>14.8</td>\n      <td>212.0</td>\n      <td>5200.0</td>\n      <td>FEMALE</td>\n    </tr>\n    <tr>\n      <th>343</th>\n      <td>Gentoo</td>\n      <td>Biscoe</td>\n      <td>49.9</td>\n      <td>16.1</td>\n      <td>213.0</td>\n      <td>5400.0</td>\n      <td>MALE</td>\n    </tr>\n  </tbody>\n</table>\n<p>344 rows × 7 columns</p>\n</div>"
     },
     "metadata": {}
    },
    {
     "output_type": "stream",
     "name": "stdout",
     "text": [
      "<class 'pandas.core.frame.DataFrame'>\nRangeIndex: 344 entries, 0 to 343\nData columns (total 7 columns):\n #   Column             Non-Null Count  Dtype  \n---  ------             --------------  -----  \n 0   species            344 non-null    object \n 1   island             344 non-null    object \n 2   culmen_length_mm   342 non-null    float64\n 3   culmen_depth_mm    342 non-null    float64\n 4   flipper_length_mm  342 non-null    float64\n 5   body_mass_g        342 non-null    float64\n 6   sex                334 non-null    object \ndtypes: float64(4), object(3)\nmemory usage: 18.9+ KB\n"
     ]
    }
   ],
   "source": [
    "### Hier kommt dein Code für die Aufgabe N1_T1 hin!\n",
    "\n",
    "## Importiere die wichtigsten Pakete für die Datenaufbereitung\n",
    "# Allgemeine Informationen angeben\n",
    "# --------------------------------\n",
    "import pandas as pd\n",
    "import numpy as np\n",
    "import matplotlib.pyplot as plt\n",
    "\n",
    "## erstelle ein DataFrame aus der CSV-Datei 'resources/penguins_size.csv' mit dem Namen 'df_penguin'\n",
    "df_penguin = pd.read_csv(\"resources/penguins_size.csv\", sep=';', decimal=',')\n",
    "# we can read json, excel, sql, and more ... https://pandas.pydata.org/pandas-docs/stable/reference/io.html\n",
    "\n",
    "## zeige das DataFrame 'df_penguin' an\n",
    "display(df_penguin)\n",
    "\n",
    "## Lasse dir Informationen über die Datentypen, Anzahl an Einträgen und Spalten angeben\n",
    "df_penguin.info() \n"
   ]
  },
  {
   "cell_type": "code",
   "execution_count": null,
   "metadata": {},
   "outputs": [],
   "source": [
    "# Hier kommen deine Lösungen zu N1A1 hin!\n",
    "# ---------------------------------------\n",
    "\n"
   ]
  },
  {
   "cell_type": "code",
   "execution_count": null,
   "metadata": {},
   "outputs": [],
   "source": [
    "# Lösungen von N1A1\n",
    "# -----------------\n"
   ]
  },
  {
   "cell_type": "code",
   "execution_count": 8,
   "metadata": {},
   "outputs": [
    {
     "output_type": "stream",
     "name": "stdout",
     "text": [
      "<class 'pandas.core.frame.DataFrame'>\nRangeIndex: 344 entries, 0 to 343\nData columns (total 7 columns):\n #   Column             Non-Null Count  Dtype  \n---  ------             --------------  -----  \n 0   species            344 non-null    object \n 1   island             344 non-null    object \n 2   culmen_length_mm   342 non-null    float64\n 3   culmen_depth_mm    342 non-null    float64\n 4   flipper_length_mm  342 non-null    float64\n 5   body_mass_g        342 non-null    float64\n 6   sex                334 non-null    object \ndtypes: float64(4), object(3)\nmemory usage: 18.9+ KB\n"
     ]
    }
   ],
   "source": [
    "\n",
    "\n",
    "# Gib die ersten und letzten 5 Einträge aus, um ein Gefühl für die Daten zu erhalten \n",
    "\n",
    "# lasse dir Informationen über die Datentypen, Anzahl an Einträgen und Spalten angeben\n",
    "df_penguin.info()  \n",
    "# gib grundlegende Statistiken über alle berechenbare Werte aus\n",
    "# view first lines of dataset\n",
    "#display(df_penguin)\n",
    "#display(df_penguin.tail())\n",
    "#display(df_penguin[-10:])\n",
    "# df.tail() for last lines and df for (reduced) view of the whole Dataframe "
   ]
  },
  {
   "source": [
    "Mit dem letzten Code haben wir unsere wichtigen Pakete importiert, unser DataFrame erstellt und grundlegende Informationen untersucht. Wir beschäftigen uns als nächstes mit möglichen fehlenden oder fehlerhaften Werten. Der [Teil der Dokumentation](https://pandas.pydata.org/pandas-docs/stable/reference/frame.html#missing-data-handling) über die Behandlung fehlender Daten ist hilft dir dabei."
   ],
   "cell_type": "markdown",
   "metadata": {}
  },
  {
   "cell_type": "code",
   "execution_count": 16,
   "metadata": {},
   "outputs": [
    {
     "output_type": "display_data",
     "data": {
      "text/plain": "Empty DataFrame\nColumns: [species, island, culmen_length_mm, culmen_depth_mm, flipper_length_mm, body_mass_g, sex]\nIndex: []",
      "text/html": "<div>\n<style scoped>\n    .dataframe tbody tr th:only-of-type {\n        vertical-align: middle;\n    }\n\n    .dataframe tbody tr th {\n        vertical-align: top;\n    }\n\n    .dataframe thead th {\n        text-align: right;\n    }\n</style>\n<table border=\"1\" class=\"dataframe\">\n  <thead>\n    <tr style=\"text-align: right;\">\n      <th></th>\n      <th>species</th>\n      <th>island</th>\n      <th>culmen_length_mm</th>\n      <th>culmen_depth_mm</th>\n      <th>flipper_length_mm</th>\n      <th>body_mass_g</th>\n      <th>sex</th>\n    </tr>\n  </thead>\n  <tbody>\n  </tbody>\n</table>\n</div>"
     },
     "metadata": {}
    },
    {
     "output_type": "display_data",
     "data": {
      "text/plain": "Empty DataFrame\nColumns: [species, island, culmen_length_mm, culmen_depth_mm, flipper_length_mm, body_mass_g, sex]\nIndex: []",
      "text/html": "<div>\n<style scoped>\n    .dataframe tbody tr th:only-of-type {\n        vertical-align: middle;\n    }\n\n    .dataframe tbody tr th {\n        vertical-align: top;\n    }\n\n    .dataframe thead th {\n        text-align: right;\n    }\n</style>\n<table border=\"1\" class=\"dataframe\">\n  <thead>\n    <tr style=\"text-align: right;\">\n      <th></th>\n      <th>species</th>\n      <th>island</th>\n      <th>culmen_length_mm</th>\n      <th>culmen_depth_mm</th>\n      <th>flipper_length_mm</th>\n      <th>body_mass_g</th>\n      <th>sex</th>\n    </tr>\n  </thead>\n  <tbody>\n  </tbody>\n</table>\n</div>"
     },
     "metadata": {}
    },
    {
     "output_type": "display_data",
     "data": {
      "text/plain": "    species     island  culmen_length_mm  culmen_depth_mm  flipper_length_mm  \\\n3    Adelie  Torgersen               NaN              NaN                NaN   \n339  Gentoo     Biscoe               NaN              NaN                NaN   \n\n     body_mass_g  sex  \n3            NaN  NaN  \n339          NaN  NaN  ",
      "text/html": "<div>\n<style scoped>\n    .dataframe tbody tr th:only-of-type {\n        vertical-align: middle;\n    }\n\n    .dataframe tbody tr th {\n        vertical-align: top;\n    }\n\n    .dataframe thead th {\n        text-align: right;\n    }\n</style>\n<table border=\"1\" class=\"dataframe\">\n  <thead>\n    <tr style=\"text-align: right;\">\n      <th></th>\n      <th>species</th>\n      <th>island</th>\n      <th>culmen_length_mm</th>\n      <th>culmen_depth_mm</th>\n      <th>flipper_length_mm</th>\n      <th>body_mass_g</th>\n      <th>sex</th>\n    </tr>\n  </thead>\n  <tbody>\n    <tr>\n      <th>3</th>\n      <td>Adelie</td>\n      <td>Torgersen</td>\n      <td>NaN</td>\n      <td>NaN</td>\n      <td>NaN</td>\n      <td>NaN</td>\n      <td>NaN</td>\n    </tr>\n    <tr>\n      <th>339</th>\n      <td>Gentoo</td>\n      <td>Biscoe</td>\n      <td>NaN</td>\n      <td>NaN</td>\n      <td>NaN</td>\n      <td>NaN</td>\n      <td>NaN</td>\n    </tr>\n  </tbody>\n</table>\n</div>"
     },
     "metadata": {}
    },
    {
     "output_type": "display_data",
     "data": {
      "text/plain": "    species     island  culmen_length_mm  culmen_depth_mm  flipper_length_mm  \\\n3    Adelie  Torgersen               NaN              NaN                NaN   \n339  Gentoo     Biscoe               NaN              NaN                NaN   \n\n     body_mass_g  sex  \n3            NaN  NaN  \n339          NaN  NaN  ",
      "text/html": "<div>\n<style scoped>\n    .dataframe tbody tr th:only-of-type {\n        vertical-align: middle;\n    }\n\n    .dataframe tbody tr th {\n        vertical-align: top;\n    }\n\n    .dataframe thead th {\n        text-align: right;\n    }\n</style>\n<table border=\"1\" class=\"dataframe\">\n  <thead>\n    <tr style=\"text-align: right;\">\n      <th></th>\n      <th>species</th>\n      <th>island</th>\n      <th>culmen_length_mm</th>\n      <th>culmen_depth_mm</th>\n      <th>flipper_length_mm</th>\n      <th>body_mass_g</th>\n      <th>sex</th>\n    </tr>\n  </thead>\n  <tbody>\n    <tr>\n      <th>3</th>\n      <td>Adelie</td>\n      <td>Torgersen</td>\n      <td>NaN</td>\n      <td>NaN</td>\n      <td>NaN</td>\n      <td>NaN</td>\n      <td>NaN</td>\n    </tr>\n    <tr>\n      <th>339</th>\n      <td>Gentoo</td>\n      <td>Biscoe</td>\n      <td>NaN</td>\n      <td>NaN</td>\n      <td>NaN</td>\n      <td>NaN</td>\n      <td>NaN</td>\n    </tr>\n  </tbody>\n</table>\n</div>"
     },
     "metadata": {}
    },
    {
     "output_type": "display_data",
     "data": {
      "text/plain": "    species     island  culmen_length_mm  culmen_depth_mm  flipper_length_mm  \\\n3    Adelie  Torgersen               NaN              NaN                NaN   \n339  Gentoo     Biscoe               NaN              NaN                NaN   \n\n     body_mass_g  sex  \n3            NaN  NaN  \n339          NaN  NaN  ",
      "text/html": "<div>\n<style scoped>\n    .dataframe tbody tr th:only-of-type {\n        vertical-align: middle;\n    }\n\n    .dataframe tbody tr th {\n        vertical-align: top;\n    }\n\n    .dataframe thead th {\n        text-align: right;\n    }\n</style>\n<table border=\"1\" class=\"dataframe\">\n  <thead>\n    <tr style=\"text-align: right;\">\n      <th></th>\n      <th>species</th>\n      <th>island</th>\n      <th>culmen_length_mm</th>\n      <th>culmen_depth_mm</th>\n      <th>flipper_length_mm</th>\n      <th>body_mass_g</th>\n      <th>sex</th>\n    </tr>\n  </thead>\n  <tbody>\n    <tr>\n      <th>3</th>\n      <td>Adelie</td>\n      <td>Torgersen</td>\n      <td>NaN</td>\n      <td>NaN</td>\n      <td>NaN</td>\n      <td>NaN</td>\n      <td>NaN</td>\n    </tr>\n    <tr>\n      <th>339</th>\n      <td>Gentoo</td>\n      <td>Biscoe</td>\n      <td>NaN</td>\n      <td>NaN</td>\n      <td>NaN</td>\n      <td>NaN</td>\n      <td>NaN</td>\n    </tr>\n  </tbody>\n</table>\n</div>"
     },
     "metadata": {}
    },
    {
     "output_type": "display_data",
     "data": {
      "text/plain": "    species     island  culmen_length_mm  culmen_depth_mm  flipper_length_mm  \\\n3    Adelie  Torgersen               NaN              NaN                NaN   \n339  Gentoo     Biscoe               NaN              NaN                NaN   \n\n     body_mass_g  sex  \n3            NaN  NaN  \n339          NaN  NaN  ",
      "text/html": "<div>\n<style scoped>\n    .dataframe tbody tr th:only-of-type {\n        vertical-align: middle;\n    }\n\n    .dataframe tbody tr th {\n        vertical-align: top;\n    }\n\n    .dataframe thead th {\n        text-align: right;\n    }\n</style>\n<table border=\"1\" class=\"dataframe\">\n  <thead>\n    <tr style=\"text-align: right;\">\n      <th></th>\n      <th>species</th>\n      <th>island</th>\n      <th>culmen_length_mm</th>\n      <th>culmen_depth_mm</th>\n      <th>flipper_length_mm</th>\n      <th>body_mass_g</th>\n      <th>sex</th>\n    </tr>\n  </thead>\n  <tbody>\n    <tr>\n      <th>3</th>\n      <td>Adelie</td>\n      <td>Torgersen</td>\n      <td>NaN</td>\n      <td>NaN</td>\n      <td>NaN</td>\n      <td>NaN</td>\n      <td>NaN</td>\n    </tr>\n    <tr>\n      <th>339</th>\n      <td>Gentoo</td>\n      <td>Biscoe</td>\n      <td>NaN</td>\n      <td>NaN</td>\n      <td>NaN</td>\n      <td>NaN</td>\n      <td>NaN</td>\n    </tr>\n  </tbody>\n</table>\n</div>"
     },
     "metadata": {}
    },
    {
     "output_type": "display_data",
     "data": {
      "text/plain": "    species     island  culmen_length_mm  culmen_depth_mm  flipper_length_mm  \\\n3    Adelie  Torgersen               NaN              NaN                NaN   \n8    Adelie  Torgersen              34.1             18.1              193.0   \n9    Adelie  Torgersen              42.0             20.2              190.0   \n10   Adelie  Torgersen              37.8             17.1              186.0   \n11   Adelie  Torgersen              37.8             17.3              180.0   \n47   Adelie      Dream              37.5             18.9              179.0   \n246  Gentoo     Biscoe              44.5             14.3              216.0   \n286  Gentoo     Biscoe              46.2             14.4              214.0   \n324  Gentoo     Biscoe              47.3             13.8              216.0   \n339  Gentoo     Biscoe               NaN              NaN                NaN   \n\n     body_mass_g  sex  \n3            NaN  NaN  \n8         3475.0  NaN  \n9         4250.0  NaN  \n10        3300.0  NaN  \n11        3700.0  NaN  \n47        2975.0  NaN  \n246       4100.0  NaN  \n286       4650.0  NaN  \n324       4725.0  NaN  \n339          NaN  NaN  ",
      "text/html": "<div>\n<style scoped>\n    .dataframe tbody tr th:only-of-type {\n        vertical-align: middle;\n    }\n\n    .dataframe tbody tr th {\n        vertical-align: top;\n    }\n\n    .dataframe thead th {\n        text-align: right;\n    }\n</style>\n<table border=\"1\" class=\"dataframe\">\n  <thead>\n    <tr style=\"text-align: right;\">\n      <th></th>\n      <th>species</th>\n      <th>island</th>\n      <th>culmen_length_mm</th>\n      <th>culmen_depth_mm</th>\n      <th>flipper_length_mm</th>\n      <th>body_mass_g</th>\n      <th>sex</th>\n    </tr>\n  </thead>\n  <tbody>\n    <tr>\n      <th>3</th>\n      <td>Adelie</td>\n      <td>Torgersen</td>\n      <td>NaN</td>\n      <td>NaN</td>\n      <td>NaN</td>\n      <td>NaN</td>\n      <td>NaN</td>\n    </tr>\n    <tr>\n      <th>8</th>\n      <td>Adelie</td>\n      <td>Torgersen</td>\n      <td>34.1</td>\n      <td>18.1</td>\n      <td>193.0</td>\n      <td>3475.0</td>\n      <td>NaN</td>\n    </tr>\n    <tr>\n      <th>9</th>\n      <td>Adelie</td>\n      <td>Torgersen</td>\n      <td>42.0</td>\n      <td>20.2</td>\n      <td>190.0</td>\n      <td>4250.0</td>\n      <td>NaN</td>\n    </tr>\n    <tr>\n      <th>10</th>\n      <td>Adelie</td>\n      <td>Torgersen</td>\n      <td>37.8</td>\n      <td>17.1</td>\n      <td>186.0</td>\n      <td>3300.0</td>\n      <td>NaN</td>\n    </tr>\n    <tr>\n      <th>11</th>\n      <td>Adelie</td>\n      <td>Torgersen</td>\n      <td>37.8</td>\n      <td>17.3</td>\n      <td>180.0</td>\n      <td>3700.0</td>\n      <td>NaN</td>\n    </tr>\n    <tr>\n      <th>47</th>\n      <td>Adelie</td>\n      <td>Dream</td>\n      <td>37.5</td>\n      <td>18.9</td>\n      <td>179.0</td>\n      <td>2975.0</td>\n      <td>NaN</td>\n    </tr>\n    <tr>\n      <th>246</th>\n      <td>Gentoo</td>\n      <td>Biscoe</td>\n      <td>44.5</td>\n      <td>14.3</td>\n      <td>216.0</td>\n      <td>4100.0</td>\n      <td>NaN</td>\n    </tr>\n    <tr>\n      <th>286</th>\n      <td>Gentoo</td>\n      <td>Biscoe</td>\n      <td>46.2</td>\n      <td>14.4</td>\n      <td>214.0</td>\n      <td>4650.0</td>\n      <td>NaN</td>\n    </tr>\n    <tr>\n      <th>324</th>\n      <td>Gentoo</td>\n      <td>Biscoe</td>\n      <td>47.3</td>\n      <td>13.8</td>\n      <td>216.0</td>\n      <td>4725.0</td>\n      <td>NaN</td>\n    </tr>\n    <tr>\n      <th>339</th>\n      <td>Gentoo</td>\n      <td>Biscoe</td>\n      <td>NaN</td>\n      <td>NaN</td>\n      <td>NaN</td>\n      <td>NaN</td>\n      <td>NaN</td>\n    </tr>\n  </tbody>\n</table>\n</div>"
     },
     "metadata": {}
    },
    {
     "output_type": "stream",
     "name": "stdout",
     "text": [
      "['Adelie' 'Adellie' 'Chinstrap' 'Chinnstrap' 'Gentoo']\n['Torgersen' 'Biscoe' 'Dream' 'DReam' 'DrEam' 'BIscoe' 'BisCoe']\n['MALE' 'FEMALE' nan 'MALe' 'FEmALE' ',']\n"
     ]
    },
    {
     "output_type": "execute_result",
     "data": {
      "text/plain": [
       "       culmen_length_mm  culmen_depth_mm  flipper_length_mm  body_mass_g\n",
       "count        342.000000       342.000000         342.000000   342.000000\n",
       "mean          43.921930        17.151170         200.915205  4201.754386\n",
       "std            5.459584         1.974793          14.061714   801.954536\n",
       "min           32.100000        13.100000         172.000000  2700.000000\n",
       "25%           39.225000        15.600000         190.000000  3550.000000\n",
       "50%           44.450000        17.300000         197.000000  4050.000000\n",
       "75%           48.500000        18.700000         213.000000  4750.000000\n",
       "max           59.600000        21.500000         231.000000  6300.000000"
      ],
      "text/html": "<div>\n<style scoped>\n    .dataframe tbody tr th:only-of-type {\n        vertical-align: middle;\n    }\n\n    .dataframe tbody tr th {\n        vertical-align: top;\n    }\n\n    .dataframe thead th {\n        text-align: right;\n    }\n</style>\n<table border=\"1\" class=\"dataframe\">\n  <thead>\n    <tr style=\"text-align: right;\">\n      <th></th>\n      <th>culmen_length_mm</th>\n      <th>culmen_depth_mm</th>\n      <th>flipper_length_mm</th>\n      <th>body_mass_g</th>\n    </tr>\n  </thead>\n  <tbody>\n    <tr>\n      <th>count</th>\n      <td>342.000000</td>\n      <td>342.000000</td>\n      <td>342.000000</td>\n      <td>342.000000</td>\n    </tr>\n    <tr>\n      <th>mean</th>\n      <td>43.921930</td>\n      <td>17.151170</td>\n      <td>200.915205</td>\n      <td>4201.754386</td>\n    </tr>\n    <tr>\n      <th>std</th>\n      <td>5.459584</td>\n      <td>1.974793</td>\n      <td>14.061714</td>\n      <td>801.954536</td>\n    </tr>\n    <tr>\n      <th>min</th>\n      <td>32.100000</td>\n      <td>13.100000</td>\n      <td>172.000000</td>\n      <td>2700.000000</td>\n    </tr>\n    <tr>\n      <th>25%</th>\n      <td>39.225000</td>\n      <td>15.600000</td>\n      <td>190.000000</td>\n      <td>3550.000000</td>\n    </tr>\n    <tr>\n      <th>50%</th>\n      <td>44.450000</td>\n      <td>17.300000</td>\n      <td>197.000000</td>\n      <td>4050.000000</td>\n    </tr>\n    <tr>\n      <th>75%</th>\n      <td>48.500000</td>\n      <td>18.700000</td>\n      <td>213.000000</td>\n      <td>4750.000000</td>\n    </tr>\n    <tr>\n      <th>max</th>\n      <td>59.600000</td>\n      <td>21.500000</td>\n      <td>231.000000</td>\n      <td>6300.000000</td>\n    </tr>\n  </tbody>\n</table>\n</div>"
     },
     "metadata": {},
     "execution_count": 16
    }
   ],
   "source": [
    "# Finden von fehlenden und fehlerhaften Werten I\n",
    "# ----------------------------------------------\n",
    "\n",
    "## Gib alle Einträge von `df_penguin` aus, die einen NaN (\"Not a Number\") Eintrag enthalten (Suche nach fehlenden Werten)\n",
    "for columns in df_penguin.columns:\n",
    "    display(df_penguin.query(f'{columns}.isnull()'))\n",
    "# oder df_penguin[df_penguin.isnull().any(axis=1)]\n",
    "\n",
    "## Gib alle Einträge an, die in den nominalen Spalten vorkommen (Suche nach fehlerhaften Werten)\n",
    "for columns in [\"species\", \"island\", \"sex\"]:\n",
    "    print(df_penguin[columns].unique())\n",
    "    # display(df_penguin.groupby(columns).count())\n",
    "\n",
    "\n",
    "## Lasse dir grundlegende statistische Werte über stetige Spalten ausgeben (describe())\n",
    "df_penguin.describe()  "
   ]
  },
  {
   "cell_type": "code",
   "execution_count": null,
   "metadata": {},
   "outputs": [],
   "source": []
  },
  {
   "source": [
    "- Einträge 3 und 339 sind für alle Berechnungen unbrauchbar\n",
    "- bei den Einträgen 8,9,10,11,47,246,286,324,336,339 müssten wir nur weglassen, wenn wir uns das Geschlecht angucken\n"
   ],
   "cell_type": "markdown",
   "metadata": {}
  },
  {
   "cell_type": "code",
   "execution_count": null,
   "metadata": {},
   "outputs": [],
   "source": [
    "\n",
    "\n",
    "# Lasse dir alle Werte als Grafik anzeigen, die eine metrische Spalte haben --> suche nach Außreißern/Fehlern falsche Skalen\n",
    "#for column in df_penguin.columns:\n",
    "#    s_temp = df_penguin[column]\n",
    "#    if \"float64\" == str(s_temp.dtype):\n",
    "#        display(s_temp.plot.hist())\n",
    "\n",
    "#plt.figure()\n",
    "plt.figure()\n",
    "df_penguin.hist()\n",
    "plt.figure()\n",
    "# df_penguin.plot.hist()\n",
    "df_penguin[\"culmen_length_mm\"].hist()\n",
    "df_penguin[\"culmen_depth_mm\"].hist()\n",
    "df_penguin[\"flipper_length_mm\"].hist()\n",
    "df_penguin[\"body_mass_g\"].hist()\n",
    "\n",
    "plt.figure()\n",
    "df_penguin.boxplot(column=[\"body_mass_g\", \"flipper_length_mm\"])\n",
    "# +++ Flipperlänge in cm umwandeln, damit dort nicht so hohe Werte stehen\n",
    "\n",
    "# umgang mit NaN\n",
    "df_penguin_nona_1 = df_penguin.drop([3,339])  # oder df_penguin.dropna nutzen blöd, wenn es mehrfach lassen wollen besser\n",
    "# Umgang mit fehlerhaften werten\n",
    "df_penguin_nona_1[\"species\"] = df_penguin_nona_1[\"species\"].replace([\"Adellie\", \"Chinnstrap\"], [\"Adelie\", \"Chinstrap\"])\n",
    "df_penguin_nona_1[\"island\"] = df_penguin_nona_1[\"island\"].replace([\"DReam\", \"DrEam\", \"BIscoe\", \"BisCoe\"], [\"Dream\", \"Dream\", \"Biscoe\", \"Biscoe\"])\n",
    "df_penguin_nona_1[\"sex\"] = df_penguin_nona_1[\"sex\"].replace([\"MALe\", \"FEmALE\",\",\"], [\"MALE\",\"FEMALE\",np.NaN])\n",
    "display(df_penguin_nona_1)\n",
    "\n",
    "#df_penguin = df_penguin[df_penguin.isna().any(axis=1)]\n",
    "#display(df_penguin)\n",
    "\n",
    "# !!! vielleicht noch normailisieren? Also eine der Sachen umbauen (in cm statt mm) und dann mit Apply ändern lassen\n",
    "# !!! gucken, ob ein Unterschied bei Männern und Frauen ist\n",
    "#  \n",
    "for columns in df_penguin_nona_1.columns:\n",
    "    print(df_penguin_nona_1[columns].unique())"
   ]
  },
  {
   "cell_type": "code",
   "execution_count": 20,
   "metadata": {},
   "outputs": [
    {
     "output_type": "display_data",
     "data": {
      "text/plain": "     culmen_length_mm  culmen_depth_mm  flipper_length_mm  body_mass_g\n1                39.5             17.4              186.0       3800.0\n2                40.3             18.0              195.0       3250.0\n4                36.7             19.3              193.0       3450.0\n6                38.9             17.8              181.0       3625.0\n12               41.1             17.6              182.0       3200.0\n..                ...              ...                ...          ...\n142              32.1             15.5              188.0       3050.0\n144              37.3             16.8              192.0       3000.0\n147              36.6             18.4              184.0       3475.0\n148              36.0             17.8              195.0       3450.0\n150              36.0             17.1              187.0       3700.0\n\n[72 rows x 4 columns]",
      "text/html": "<div>\n<style scoped>\n    .dataframe tbody tr th:only-of-type {\n        vertical-align: middle;\n    }\n\n    .dataframe tbody tr th {\n        vertical-align: top;\n    }\n\n    .dataframe thead th {\n        text-align: right;\n    }\n</style>\n<table border=\"1\" class=\"dataframe\">\n  <thead>\n    <tr style=\"text-align: right;\">\n      <th></th>\n      <th>culmen_length_mm</th>\n      <th>culmen_depth_mm</th>\n      <th>flipper_length_mm</th>\n      <th>body_mass_g</th>\n    </tr>\n  </thead>\n  <tbody>\n    <tr>\n      <th>1</th>\n      <td>39.5</td>\n      <td>17.4</td>\n      <td>186.0</td>\n      <td>3800.0</td>\n    </tr>\n    <tr>\n      <th>2</th>\n      <td>40.3</td>\n      <td>18.0</td>\n      <td>195.0</td>\n      <td>3250.0</td>\n    </tr>\n    <tr>\n      <th>4</th>\n      <td>36.7</td>\n      <td>19.3</td>\n      <td>193.0</td>\n      <td>3450.0</td>\n    </tr>\n    <tr>\n      <th>6</th>\n      <td>38.9</td>\n      <td>17.8</td>\n      <td>181.0</td>\n      <td>3625.0</td>\n    </tr>\n    <tr>\n      <th>12</th>\n      <td>41.1</td>\n      <td>17.6</td>\n      <td>182.0</td>\n      <td>3200.0</td>\n    </tr>\n    <tr>\n      <th>...</th>\n      <td>...</td>\n      <td>...</td>\n      <td>...</td>\n      <td>...</td>\n    </tr>\n    <tr>\n      <th>142</th>\n      <td>32.1</td>\n      <td>15.5</td>\n      <td>188.0</td>\n      <td>3050.0</td>\n    </tr>\n    <tr>\n      <th>144</th>\n      <td>37.3</td>\n      <td>16.8</td>\n      <td>192.0</td>\n      <td>3000.0</td>\n    </tr>\n    <tr>\n      <th>147</th>\n      <td>36.6</td>\n      <td>18.4</td>\n      <td>184.0</td>\n      <td>3475.0</td>\n    </tr>\n    <tr>\n      <th>148</th>\n      <td>36.0</td>\n      <td>17.8</td>\n      <td>195.0</td>\n      <td>3450.0</td>\n    </tr>\n    <tr>\n      <th>150</th>\n      <td>36.0</td>\n      <td>17.1</td>\n      <td>187.0</td>\n      <td>3700.0</td>\n    </tr>\n  </tbody>\n</table>\n<p>72 rows × 4 columns</p>\n</div>"
     },
     "metadata": {}
    },
    {
     "output_type": "display_data",
     "data": {
      "text/plain": "        species  island  culmen_length_mm  culmen_depth_mm  flipper_length_mm  \\\nsex                                                                             \n,             1       1                 1                1                  1   \nFEMALE      164     164               164              164                164   \nFEmALE        1       1                 1                1                  1   \nMALE        167     167               167              167                167   \nMALe          1       1                 1                1                  1   \n\n        body_mass_g  \nsex                  \n,                 1  \nFEMALE          164  \nFEmALE            1  \nMALE            167  \nMALe              1  ",
      "text/html": "<div>\n<style scoped>\n    .dataframe tbody tr th:only-of-type {\n        vertical-align: middle;\n    }\n\n    .dataframe tbody tr th {\n        vertical-align: top;\n    }\n\n    .dataframe thead th {\n        text-align: right;\n    }\n</style>\n<table border=\"1\" class=\"dataframe\">\n  <thead>\n    <tr style=\"text-align: right;\">\n      <th></th>\n      <th>species</th>\n      <th>island</th>\n      <th>culmen_length_mm</th>\n      <th>culmen_depth_mm</th>\n      <th>flipper_length_mm</th>\n      <th>body_mass_g</th>\n    </tr>\n    <tr>\n      <th>sex</th>\n      <th></th>\n      <th></th>\n      <th></th>\n      <th></th>\n      <th></th>\n      <th></th>\n    </tr>\n  </thead>\n  <tbody>\n    <tr>\n      <th>,</th>\n      <td>1</td>\n      <td>1</td>\n      <td>1</td>\n      <td>1</td>\n      <td>1</td>\n      <td>1</td>\n    </tr>\n    <tr>\n      <th>FEMALE</th>\n      <td>164</td>\n      <td>164</td>\n      <td>164</td>\n      <td>164</td>\n      <td>164</td>\n      <td>164</td>\n    </tr>\n    <tr>\n      <th>FEmALE</th>\n      <td>1</td>\n      <td>1</td>\n      <td>1</td>\n      <td>1</td>\n      <td>1</td>\n      <td>1</td>\n    </tr>\n    <tr>\n      <th>MALE</th>\n      <td>167</td>\n      <td>167</td>\n      <td>167</td>\n      <td>167</td>\n      <td>167</td>\n      <td>167</td>\n    </tr>\n    <tr>\n      <th>MALe</th>\n      <td>1</td>\n      <td>1</td>\n      <td>1</td>\n      <td>1</td>\n      <td>1</td>\n      <td>1</td>\n    </tr>\n  </tbody>\n</table>\n</div>"
     },
     "metadata": {}
    },
    {
     "output_type": "display_data",
     "data": {
      "text/plain": "       culmen_length_mm  culmen_depth_mm  flipper_length_mm  body_mass_g\ncount        150.000000       150.000000         150.000000   150.000000\nmean          38.756000        18.348667         189.820000  3698.666667\nstd            2.636463         1.220394           6.351103   459.444027\nmin           32.100000        15.500000         172.000000  2850.000000\n25%           36.725000        17.500000         186.000000  3350.000000\n50%           38.800000        18.400000         190.000000  3700.000000\n75%           40.675000        19.000000         194.750000  3993.750000\nmax           46.000000        21.500000         208.000000  4775.000000",
      "text/html": "<div>\n<style scoped>\n    .dataframe tbody tr th:only-of-type {\n        vertical-align: middle;\n    }\n\n    .dataframe tbody tr th {\n        vertical-align: top;\n    }\n\n    .dataframe thead th {\n        text-align: right;\n    }\n</style>\n<table border=\"1\" class=\"dataframe\">\n  <thead>\n    <tr style=\"text-align: right;\">\n      <th></th>\n      <th>culmen_length_mm</th>\n      <th>culmen_depth_mm</th>\n      <th>flipper_length_mm</th>\n      <th>body_mass_g</th>\n    </tr>\n  </thead>\n  <tbody>\n    <tr>\n      <th>count</th>\n      <td>150.000000</td>\n      <td>150.000000</td>\n      <td>150.000000</td>\n      <td>150.000000</td>\n    </tr>\n    <tr>\n      <th>mean</th>\n      <td>38.756000</td>\n      <td>18.348667</td>\n      <td>189.820000</td>\n      <td>3698.666667</td>\n    </tr>\n    <tr>\n      <th>std</th>\n      <td>2.636463</td>\n      <td>1.220394</td>\n      <td>6.351103</td>\n      <td>459.444027</td>\n    </tr>\n    <tr>\n      <th>min</th>\n      <td>32.100000</td>\n      <td>15.500000</td>\n      <td>172.000000</td>\n      <td>2850.000000</td>\n    </tr>\n    <tr>\n      <th>25%</th>\n      <td>36.725000</td>\n      <td>17.500000</td>\n      <td>186.000000</td>\n      <td>3350.000000</td>\n    </tr>\n    <tr>\n      <th>50%</th>\n      <td>38.800000</td>\n      <td>18.400000</td>\n      <td>190.000000</td>\n      <td>3700.000000</td>\n    </tr>\n    <tr>\n      <th>75%</th>\n      <td>40.675000</td>\n      <td>19.000000</td>\n      <td>194.750000</td>\n      <td>3993.750000</td>\n    </tr>\n    <tr>\n      <th>max</th>\n      <td>46.000000</td>\n      <td>21.500000</td>\n      <td>208.000000</td>\n      <td>4775.000000</td>\n    </tr>\n  </tbody>\n</table>\n</div>"
     },
     "metadata": {}
    },
    {
     "output_type": "execute_result",
     "data": {
      "text/plain": [
       "                             culmen_length_mm  culmen_depth_mm  \\\n",
       "species    island    sex                                         \n",
       "Adelie     Biscoe    FEMALE                22               22   \n",
       "                     MALE                  22               22   \n",
       "           DReam     MALE                   1                1   \n",
       "           Dream     FEMALE                26               26   \n",
       "                     FEmALE                 1                1   \n",
       "                     MALE                  27               27   \n",
       "           Torgersen FEMALE                24               24   \n",
       "                     MALE                  21               21   \n",
       "                     MALe                   1                1   \n",
       "Adellie    Torgersen MALE                   1                1   \n",
       "Chinnstrap Dream     MALE                   1                1   \n",
       "Chinstrap  DrEam     MALE                   1                1   \n",
       "           Dream     FEMALE                34               34   \n",
       "                     MALE                  32               32   \n",
       "Gentoo     BIscoe    MALE                   1                1   \n",
       "           BisCoe    MALE                   1                1   \n",
       "           Biscoe    ,                      1                1   \n",
       "                     FEMALE                58               58   \n",
       "                     MALE                  59               59   \n",
       "\n",
       "                             flipper_length_mm  body_mass_g  \n",
       "species    island    sex                                     \n",
       "Adelie     Biscoe    FEMALE                 22           22  \n",
       "                     MALE                   22           22  \n",
       "           DReam     MALE                    1            1  \n",
       "           Dream     FEMALE                 26           26  \n",
       "                     FEmALE                  1            1  \n",
       "                     MALE                   27           27  \n",
       "           Torgersen FEMALE                 24           24  \n",
       "                     MALE                   21           21  \n",
       "                     MALe                    1            1  \n",
       "Adellie    Torgersen MALE                    1            1  \n",
       "Chinnstrap Dream     MALE                    1            1  \n",
       "Chinstrap  DrEam     MALE                    1            1  \n",
       "           Dream     FEMALE                 34           34  \n",
       "                     MALE                   32           32  \n",
       "Gentoo     BIscoe    MALE                    1            1  \n",
       "           BisCoe    MALE                    1            1  \n",
       "           Biscoe    ,                       1            1  \n",
       "                     FEMALE                 58           58  \n",
       "                     MALE                   59           59  "
      ],
      "text/html": "<div>\n<style scoped>\n    .dataframe tbody tr th:only-of-type {\n        vertical-align: middle;\n    }\n\n    .dataframe tbody tr th {\n        vertical-align: top;\n    }\n\n    .dataframe thead th {\n        text-align: right;\n    }\n</style>\n<table border=\"1\" class=\"dataframe\">\n  <thead>\n    <tr style=\"text-align: right;\">\n      <th></th>\n      <th></th>\n      <th></th>\n      <th>culmen_length_mm</th>\n      <th>culmen_depth_mm</th>\n      <th>flipper_length_mm</th>\n      <th>body_mass_g</th>\n    </tr>\n    <tr>\n      <th>species</th>\n      <th>island</th>\n      <th>sex</th>\n      <th></th>\n      <th></th>\n      <th></th>\n      <th></th>\n    </tr>\n  </thead>\n  <tbody>\n    <tr>\n      <th rowspan=\"9\" valign=\"top\">Adelie</th>\n      <th rowspan=\"2\" valign=\"top\">Biscoe</th>\n      <th>FEMALE</th>\n      <td>22</td>\n      <td>22</td>\n      <td>22</td>\n      <td>22</td>\n    </tr>\n    <tr>\n      <th>MALE</th>\n      <td>22</td>\n      <td>22</td>\n      <td>22</td>\n      <td>22</td>\n    </tr>\n    <tr>\n      <th>DReam</th>\n      <th>MALE</th>\n      <td>1</td>\n      <td>1</td>\n      <td>1</td>\n      <td>1</td>\n    </tr>\n    <tr>\n      <th rowspan=\"3\" valign=\"top\">Dream</th>\n      <th>FEMALE</th>\n      <td>26</td>\n      <td>26</td>\n      <td>26</td>\n      <td>26</td>\n    </tr>\n    <tr>\n      <th>FEmALE</th>\n      <td>1</td>\n      <td>1</td>\n      <td>1</td>\n      <td>1</td>\n    </tr>\n    <tr>\n      <th>MALE</th>\n      <td>27</td>\n      <td>27</td>\n      <td>27</td>\n      <td>27</td>\n    </tr>\n    <tr>\n      <th rowspan=\"3\" valign=\"top\">Torgersen</th>\n      <th>FEMALE</th>\n      <td>24</td>\n      <td>24</td>\n      <td>24</td>\n      <td>24</td>\n    </tr>\n    <tr>\n      <th>MALE</th>\n      <td>21</td>\n      <td>21</td>\n      <td>21</td>\n      <td>21</td>\n    </tr>\n    <tr>\n      <th>MALe</th>\n      <td>1</td>\n      <td>1</td>\n      <td>1</td>\n      <td>1</td>\n    </tr>\n    <tr>\n      <th>Adellie</th>\n      <th>Torgersen</th>\n      <th>MALE</th>\n      <td>1</td>\n      <td>1</td>\n      <td>1</td>\n      <td>1</td>\n    </tr>\n    <tr>\n      <th>Chinnstrap</th>\n      <th>Dream</th>\n      <th>MALE</th>\n      <td>1</td>\n      <td>1</td>\n      <td>1</td>\n      <td>1</td>\n    </tr>\n    <tr>\n      <th rowspan=\"3\" valign=\"top\">Chinstrap</th>\n      <th>DrEam</th>\n      <th>MALE</th>\n      <td>1</td>\n      <td>1</td>\n      <td>1</td>\n      <td>1</td>\n    </tr>\n    <tr>\n      <th rowspan=\"2\" valign=\"top\">Dream</th>\n      <th>FEMALE</th>\n      <td>34</td>\n      <td>34</td>\n      <td>34</td>\n      <td>34</td>\n    </tr>\n    <tr>\n      <th>MALE</th>\n      <td>32</td>\n      <td>32</td>\n      <td>32</td>\n      <td>32</td>\n    </tr>\n    <tr>\n      <th rowspan=\"5\" valign=\"top\">Gentoo</th>\n      <th>BIscoe</th>\n      <th>MALE</th>\n      <td>1</td>\n      <td>1</td>\n      <td>1</td>\n      <td>1</td>\n    </tr>\n    <tr>\n      <th>BisCoe</th>\n      <th>MALE</th>\n      <td>1</td>\n      <td>1</td>\n      <td>1</td>\n      <td>1</td>\n    </tr>\n    <tr>\n      <th rowspan=\"3\" valign=\"top\">Biscoe</th>\n      <th>,</th>\n      <td>1</td>\n      <td>1</td>\n      <td>1</td>\n      <td>1</td>\n    </tr>\n    <tr>\n      <th>FEMALE</th>\n      <td>58</td>\n      <td>58</td>\n      <td>58</td>\n      <td>58</td>\n    </tr>\n    <tr>\n      <th>MALE</th>\n      <td>59</td>\n      <td>59</td>\n      <td>59</td>\n      <td>59</td>\n    </tr>\n  </tbody>\n</table>\n</div>"
     },
     "metadata": {},
     "execution_count": 20
    },
    {
     "output_type": "display_data",
     "data": {
      "text/plain": "<Figure size 432x288 with 1 Axes>",
      "image/svg+xml": "<?xml version=\"1.0\" encoding=\"utf-8\" standalone=\"no\"?>\n<!DOCTYPE svg PUBLIC \"-//W3C//DTD SVG 1.1//EN\"\n  \"http://www.w3.org/Graphics/SVG/1.1/DTD/svg11.dtd\">\n<!-- Created with matplotlib (https://matplotlib.org/) -->\n<svg height=\"248.518125pt\" version=\"1.1\" viewBox=\"0 0 368.925 248.518125\" width=\"368.925pt\" xmlns=\"http://www.w3.org/2000/svg\" xmlns:xlink=\"http://www.w3.org/1999/xlink\">\n <metadata>\n  <rdf:RDF xmlns:cc=\"http://creativecommons.org/ns#\" xmlns:dc=\"http://purl.org/dc/elements/1.1/\" xmlns:rdf=\"http://www.w3.org/1999/02/22-rdf-syntax-ns#\">\n   <cc:Work>\n    <dc:type rdf:resource=\"http://purl.org/dc/dcmitype/StillImage\"/>\n    <dc:date>2020-10-17T15:05:58.872239</dc:date>\n    <dc:format>image/svg+xml</dc:format>\n    <dc:creator>\n     <cc:Agent>\n      <dc:title>Matplotlib v3.3.2, https://matplotlib.org/</dc:title>\n     </cc:Agent>\n    </dc:creator>\n   </cc:Work>\n  </rdf:RDF>\n </metadata>\n <defs>\n  <style type=\"text/css\">*{stroke-linecap:butt;stroke-linejoin:round;}</style>\n </defs>\n <g id=\"figure_1\">\n  <g id=\"patch_1\">\n   <path d=\"M -0 248.518125 \nL 368.925 248.518125 \nL 368.925 0 \nL -0 0 \nz\n\" style=\"fill:none;\"/>\n  </g>\n  <g id=\"axes_1\">\n   <g id=\"patch_2\">\n    <path d=\"M 26.925 224.64 \nL 361.725 224.64 \nL 361.725 7.2 \nL 26.925 7.2 \nz\n\" style=\"fill:#ffffff;\"/>\n   </g>\n   <g id=\"patch_3\">\n    <path clip-path=\"url(#pbc4ef24468)\" d=\"M 42.143182 224.64 \nL 72.579545 224.64 \nL 72.579545 215.227013 \nL 42.143182 215.227013 \nz\n\" style=\"fill:#1f77b4;\"/>\n   </g>\n   <g id=\"patch_4\">\n    <path clip-path=\"url(#pbc4ef24468)\" d=\"M 72.579545 224.64 \nL 103.015909 224.64 \nL 103.015909 196.401039 \nL 72.579545 196.401039 \nz\n\" style=\"fill:#1f77b4;\"/>\n   </g>\n   <g id=\"patch_5\">\n    <path clip-path=\"url(#pbc4ef24468)\" d=\"M 103.015909 224.64 \nL 133.452273 224.64 \nL 133.452273 130.51013 \nL 103.015909 130.51013 \nz\n\" style=\"fill:#1f77b4;\"/>\n   </g>\n   <g id=\"patch_6\">\n    <path clip-path=\"url(#pbc4ef24468)\" d=\"M 133.452273 224.64 \nL 163.888636 224.64 \nL 163.888636 139.923117 \nL 133.452273 139.923117 \nz\n\" style=\"fill:#1f77b4;\"/>\n   </g>\n   <g id=\"patch_7\">\n    <path clip-path=\"url(#pbc4ef24468)\" d=\"M 163.888636 224.64 \nL 194.325 224.64 \nL 194.325 130.51013 \nL 163.888636 130.51013 \nz\n\" style=\"fill:#1f77b4;\"/>\n   </g>\n   <g id=\"patch_8\">\n    <path clip-path=\"url(#pbc4ef24468)\" d=\"M 194.325 224.64 \nL 224.761364 224.64 \nL 224.761364 17.554286 \nL 194.325 17.554286 \nz\n\" style=\"fill:#1f77b4;\"/>\n   </g>\n   <g id=\"patch_9\">\n    <path clip-path=\"url(#pbc4ef24468)\" d=\"M 224.761364 224.64 \nL 255.197727 224.64 \nL 255.197727 158.749091 \nL 224.761364 158.749091 \nz\n\" style=\"fill:#1f77b4;\"/>\n   </g>\n   <g id=\"patch_10\">\n    <path clip-path=\"url(#pbc4ef24468)\" d=\"M 255.197727 224.64 \nL 285.634091 224.64 \nL 285.634091 177.575065 \nL 255.197727 177.575065 \nz\n\" style=\"fill:#1f77b4;\"/>\n   </g>\n   <g id=\"patch_11\">\n    <path clip-path=\"url(#pbc4ef24468)\" d=\"M 285.634091 224.64 \nL 316.070455 224.64 \nL 316.070455 215.227013 \nL 285.634091 215.227013 \nz\n\" style=\"fill:#1f77b4;\"/>\n   </g>\n   <g id=\"patch_12\">\n    <path clip-path=\"url(#pbc4ef24468)\" d=\"M 316.070455 224.64 \nL 346.506818 224.64 \nL 346.506818 196.401039 \nL 316.070455 196.401039 \nz\n\" style=\"fill:#1f77b4;\"/>\n   </g>\n   <g id=\"matplotlib.axis_1\">\n    <g id=\"xtick_1\">\n     <g id=\"line2d_1\">\n      <path clip-path=\"url(#pbc4ef24468)\" d=\"M 67.274124 224.64 \nL 67.274124 7.2 \n\" style=\"fill:none;stroke:#b0b0b0;stroke-linecap:square;stroke-width:0.8;\"/>\n     </g>\n     <g id=\"line2d_2\">\n      <defs>\n       <path d=\"M 0 0 \nL 0 3.5 \n\" id=\"ma3d7d1b996\" style=\"stroke:#000000;stroke-width:0.8;\"/>\n      </defs>\n      <g>\n       <use style=\"stroke:#000000;stroke-width:0.8;\" x=\"67.274124\" xlink:href=\"#ma3d7d1b996\" y=\"224.64\"/>\n      </g>\n     </g>\n     <g id=\"text_1\">\n      <!-- 36 -->\n      <g transform=\"translate(60.911624 239.238437)scale(0.1 -0.1)\">\n       <defs>\n        <path d=\"M 40.578125 39.3125 \nQ 47.65625 37.796875 51.625 33 \nQ 55.609375 28.21875 55.609375 21.1875 \nQ 55.609375 10.40625 48.1875 4.484375 \nQ 40.765625 -1.421875 27.09375 -1.421875 \nQ 22.515625 -1.421875 17.65625 -0.515625 \nQ 12.796875 0.390625 7.625 2.203125 \nL 7.625 11.71875 \nQ 11.71875 9.328125 16.59375 8.109375 \nQ 21.484375 6.890625 26.8125 6.890625 \nQ 36.078125 6.890625 40.9375 10.546875 \nQ 45.796875 14.203125 45.796875 21.1875 \nQ 45.796875 27.640625 41.28125 31.265625 \nQ 36.765625 34.90625 28.71875 34.90625 \nL 20.21875 34.90625 \nL 20.21875 43.015625 \nL 29.109375 43.015625 \nQ 36.375 43.015625 40.234375 45.921875 \nQ 44.09375 48.828125 44.09375 54.296875 \nQ 44.09375 59.90625 40.109375 62.90625 \nQ 36.140625 65.921875 28.71875 65.921875 \nQ 24.65625 65.921875 20.015625 65.03125 \nQ 15.375 64.15625 9.8125 62.3125 \nL 9.8125 71.09375 \nQ 15.4375 72.65625 20.34375 73.4375 \nQ 25.25 74.21875 29.59375 74.21875 \nQ 40.828125 74.21875 47.359375 69.109375 \nQ 53.90625 64.015625 53.90625 55.328125 \nQ 53.90625 49.265625 50.4375 45.09375 \nQ 46.96875 40.921875 40.578125 39.3125 \nz\n\" id=\"DejaVuSans-51\"/>\n        <path d=\"M 33.015625 40.375 \nQ 26.375 40.375 22.484375 35.828125 \nQ 18.609375 31.296875 18.609375 23.390625 \nQ 18.609375 15.53125 22.484375 10.953125 \nQ 26.375 6.390625 33.015625 6.390625 \nQ 39.65625 6.390625 43.53125 10.953125 \nQ 47.40625 15.53125 47.40625 23.390625 \nQ 47.40625 31.296875 43.53125 35.828125 \nQ 39.65625 40.375 33.015625 40.375 \nz\nM 52.59375 71.296875 \nL 52.59375 62.3125 \nQ 48.875 64.0625 45.09375 64.984375 \nQ 41.3125 65.921875 37.59375 65.921875 \nQ 27.828125 65.921875 22.671875 59.328125 \nQ 17.53125 52.734375 16.796875 39.40625 \nQ 19.671875 43.65625 24.015625 45.921875 \nQ 28.375 48.1875 33.59375 48.1875 \nQ 44.578125 48.1875 50.953125 41.515625 \nQ 57.328125 34.859375 57.328125 23.390625 \nQ 57.328125 12.15625 50.6875 5.359375 \nQ 44.046875 -1.421875 33.015625 -1.421875 \nQ 20.359375 -1.421875 13.671875 8.265625 \nQ 6.984375 17.96875 6.984375 36.375 \nQ 6.984375 53.65625 15.1875 63.9375 \nQ 23.390625 74.21875 37.203125 74.21875 \nQ 40.921875 74.21875 44.703125 73.484375 \nQ 48.484375 72.75 52.59375 71.296875 \nz\n\" id=\"DejaVuSans-54\"/>\n       </defs>\n       <use xlink:href=\"#DejaVuSans-51\"/>\n       <use x=\"63.623047\" xlink:href=\"#DejaVuSans-54\"/>\n      </g>\n     </g>\n    </g>\n    <g id=\"xtick_2\">\n     <g id=\"line2d_3\">\n      <path clip-path=\"url(#pbc4ef24468)\" d=\"M 123.120663 224.64 \nL 123.120663 7.2 \n\" style=\"fill:none;stroke:#b0b0b0;stroke-linecap:square;stroke-width:0.8;\"/>\n     </g>\n     <g id=\"line2d_4\">\n      <g>\n       <use style=\"stroke:#000000;stroke-width:0.8;\" x=\"123.120663\" xlink:href=\"#ma3d7d1b996\" y=\"224.64\"/>\n      </g>\n     </g>\n     <g id=\"text_2\">\n      <!-- 38 -->\n      <g transform=\"translate(116.758163 239.238437)scale(0.1 -0.1)\">\n       <defs>\n        <path d=\"M 31.78125 34.625 \nQ 24.75 34.625 20.71875 30.859375 \nQ 16.703125 27.09375 16.703125 20.515625 \nQ 16.703125 13.921875 20.71875 10.15625 \nQ 24.75 6.390625 31.78125 6.390625 \nQ 38.8125 6.390625 42.859375 10.171875 \nQ 46.921875 13.96875 46.921875 20.515625 \nQ 46.921875 27.09375 42.890625 30.859375 \nQ 38.875 34.625 31.78125 34.625 \nz\nM 21.921875 38.8125 \nQ 15.578125 40.375 12.03125 44.71875 \nQ 8.5 49.078125 8.5 55.328125 \nQ 8.5 64.0625 14.71875 69.140625 \nQ 20.953125 74.21875 31.78125 74.21875 \nQ 42.671875 74.21875 48.875 69.140625 \nQ 55.078125 64.0625 55.078125 55.328125 \nQ 55.078125 49.078125 51.53125 44.71875 \nQ 48 40.375 41.703125 38.8125 \nQ 48.828125 37.15625 52.796875 32.3125 \nQ 56.78125 27.484375 56.78125 20.515625 \nQ 56.78125 9.90625 50.3125 4.234375 \nQ 43.84375 -1.421875 31.78125 -1.421875 \nQ 19.734375 -1.421875 13.25 4.234375 \nQ 6.78125 9.90625 6.78125 20.515625 \nQ 6.78125 27.484375 10.78125 32.3125 \nQ 14.796875 37.15625 21.921875 38.8125 \nz\nM 18.3125 54.390625 \nQ 18.3125 48.734375 21.84375 45.5625 \nQ 25.390625 42.390625 31.78125 42.390625 \nQ 38.140625 42.390625 41.71875 45.5625 \nQ 45.3125 48.734375 45.3125 54.390625 \nQ 45.3125 60.0625 41.71875 63.234375 \nQ 38.140625 66.40625 31.78125 66.40625 \nQ 25.390625 66.40625 21.84375 63.234375 \nQ 18.3125 60.0625 18.3125 54.390625 \nz\n\" id=\"DejaVuSans-56\"/>\n       </defs>\n       <use xlink:href=\"#DejaVuSans-51\"/>\n       <use x=\"63.623047\" xlink:href=\"#DejaVuSans-56\"/>\n      </g>\n     </g>\n    </g>\n    <g id=\"xtick_3\">\n     <g id=\"line2d_5\">\n      <path clip-path=\"url(#pbc4ef24468)\" d=\"M 178.967202 224.64 \nL 178.967202 7.2 \n\" style=\"fill:none;stroke:#b0b0b0;stroke-linecap:square;stroke-width:0.8;\"/>\n     </g>\n     <g id=\"line2d_6\">\n      <g>\n       <use style=\"stroke:#000000;stroke-width:0.8;\" x=\"178.967202\" xlink:href=\"#ma3d7d1b996\" y=\"224.64\"/>\n      </g>\n     </g>\n     <g id=\"text_3\">\n      <!-- 40 -->\n      <g transform=\"translate(172.604702 239.238437)scale(0.1 -0.1)\">\n       <defs>\n        <path d=\"M 37.796875 64.3125 \nL 12.890625 25.390625 \nL 37.796875 25.390625 \nz\nM 35.203125 72.90625 \nL 47.609375 72.90625 \nL 47.609375 25.390625 \nL 58.015625 25.390625 \nL 58.015625 17.1875 \nL 47.609375 17.1875 \nL 47.609375 0 \nL 37.796875 0 \nL 37.796875 17.1875 \nL 4.890625 17.1875 \nL 4.890625 26.703125 \nz\n\" id=\"DejaVuSans-52\"/>\n        <path d=\"M 31.78125 66.40625 \nQ 24.171875 66.40625 20.328125 58.90625 \nQ 16.5 51.421875 16.5 36.375 \nQ 16.5 21.390625 20.328125 13.890625 \nQ 24.171875 6.390625 31.78125 6.390625 \nQ 39.453125 6.390625 43.28125 13.890625 \nQ 47.125 21.390625 47.125 36.375 \nQ 47.125 51.421875 43.28125 58.90625 \nQ 39.453125 66.40625 31.78125 66.40625 \nz\nM 31.78125 74.21875 \nQ 44.046875 74.21875 50.515625 64.515625 \nQ 56.984375 54.828125 56.984375 36.375 \nQ 56.984375 17.96875 50.515625 8.265625 \nQ 44.046875 -1.421875 31.78125 -1.421875 \nQ 19.53125 -1.421875 13.0625 8.265625 \nQ 6.59375 17.96875 6.59375 36.375 \nQ 6.59375 54.828125 13.0625 64.515625 \nQ 19.53125 74.21875 31.78125 74.21875 \nz\n\" id=\"DejaVuSans-48\"/>\n       </defs>\n       <use xlink:href=\"#DejaVuSans-52\"/>\n       <use x=\"63.623047\" xlink:href=\"#DejaVuSans-48\"/>\n      </g>\n     </g>\n    </g>\n    <g id=\"xtick_4\">\n     <g id=\"line2d_7\">\n      <path clip-path=\"url(#pbc4ef24468)\" d=\"M 234.813741 224.64 \nL 234.813741 7.2 \n\" style=\"fill:none;stroke:#b0b0b0;stroke-linecap:square;stroke-width:0.8;\"/>\n     </g>\n     <g id=\"line2d_8\">\n      <g>\n       <use style=\"stroke:#000000;stroke-width:0.8;\" x=\"234.813741\" xlink:href=\"#ma3d7d1b996\" y=\"224.64\"/>\n      </g>\n     </g>\n     <g id=\"text_4\">\n      <!-- 42 -->\n      <g transform=\"translate(228.451241 239.238437)scale(0.1 -0.1)\">\n       <defs>\n        <path d=\"M 19.1875 8.296875 \nL 53.609375 8.296875 \nL 53.609375 0 \nL 7.328125 0 \nL 7.328125 8.296875 \nQ 12.9375 14.109375 22.625 23.890625 \nQ 32.328125 33.6875 34.8125 36.53125 \nQ 39.546875 41.84375 41.421875 45.53125 \nQ 43.3125 49.21875 43.3125 52.78125 \nQ 43.3125 58.59375 39.234375 62.25 \nQ 35.15625 65.921875 28.609375 65.921875 \nQ 23.96875 65.921875 18.8125 64.3125 \nQ 13.671875 62.703125 7.8125 59.421875 \nL 7.8125 69.390625 \nQ 13.765625 71.78125 18.9375 73 \nQ 24.125 74.21875 28.421875 74.21875 \nQ 39.75 74.21875 46.484375 68.546875 \nQ 53.21875 62.890625 53.21875 53.421875 \nQ 53.21875 48.921875 51.53125 44.890625 \nQ 49.859375 40.875 45.40625 35.40625 \nQ 44.1875 33.984375 37.640625 27.21875 \nQ 31.109375 20.453125 19.1875 8.296875 \nz\n\" id=\"DejaVuSans-50\"/>\n       </defs>\n       <use xlink:href=\"#DejaVuSans-52\"/>\n       <use x=\"63.623047\" xlink:href=\"#DejaVuSans-50\"/>\n      </g>\n     </g>\n    </g>\n    <g id=\"xtick_5\">\n     <g id=\"line2d_9\">\n      <path clip-path=\"url(#pbc4ef24468)\" d=\"M 290.660279 224.64 \nL 290.660279 7.2 \n\" style=\"fill:none;stroke:#b0b0b0;stroke-linecap:square;stroke-width:0.8;\"/>\n     </g>\n     <g id=\"line2d_10\">\n      <g>\n       <use style=\"stroke:#000000;stroke-width:0.8;\" x=\"290.660279\" xlink:href=\"#ma3d7d1b996\" y=\"224.64\"/>\n      </g>\n     </g>\n     <g id=\"text_5\">\n      <!-- 44 -->\n      <g transform=\"translate(284.297779 239.238437)scale(0.1 -0.1)\">\n       <use xlink:href=\"#DejaVuSans-52\"/>\n       <use x=\"63.623047\" xlink:href=\"#DejaVuSans-52\"/>\n      </g>\n     </g>\n    </g>\n    <g id=\"xtick_6\">\n     <g id=\"line2d_11\">\n      <path clip-path=\"url(#pbc4ef24468)\" d=\"M 346.506818 224.64 \nL 346.506818 7.2 \n\" style=\"fill:none;stroke:#b0b0b0;stroke-linecap:square;stroke-width:0.8;\"/>\n     </g>\n     <g id=\"line2d_12\">\n      <g>\n       <use style=\"stroke:#000000;stroke-width:0.8;\" x=\"346.506818\" xlink:href=\"#ma3d7d1b996\" y=\"224.64\"/>\n      </g>\n     </g>\n     <g id=\"text_6\">\n      <!-- 46 -->\n      <g transform=\"translate(340.144318 239.238437)scale(0.1 -0.1)\">\n       <use xlink:href=\"#DejaVuSans-52\"/>\n       <use x=\"63.623047\" xlink:href=\"#DejaVuSans-54\"/>\n      </g>\n     </g>\n    </g>\n   </g>\n   <g id=\"matplotlib.axis_2\">\n    <g id=\"ytick_1\">\n     <g id=\"line2d_13\">\n      <path clip-path=\"url(#pbc4ef24468)\" d=\"M 26.925 224.64 \nL 361.725 224.64 \n\" style=\"fill:none;stroke:#b0b0b0;stroke-linecap:square;stroke-width:0.8;\"/>\n     </g>\n     <g id=\"line2d_14\">\n      <defs>\n       <path d=\"M 0 0 \nL -3.5 0 \n\" id=\"m100079995e\" style=\"stroke:#000000;stroke-width:0.8;\"/>\n      </defs>\n      <g>\n       <use style=\"stroke:#000000;stroke-width:0.8;\" x=\"26.925\" xlink:href=\"#m100079995e\" y=\"224.64\"/>\n      </g>\n     </g>\n     <g id=\"text_7\">\n      <!-- 0 -->\n      <g transform=\"translate(13.5625 228.439219)scale(0.1 -0.1)\">\n       <use xlink:href=\"#DejaVuSans-48\"/>\n      </g>\n     </g>\n    </g>\n    <g id=\"ytick_2\">\n     <g id=\"line2d_15\">\n      <path clip-path=\"url(#pbc4ef24468)\" d=\"M 26.925 177.575065 \nL 361.725 177.575065 \n\" style=\"fill:none;stroke:#b0b0b0;stroke-linecap:square;stroke-width:0.8;\"/>\n     </g>\n     <g id=\"line2d_16\">\n      <g>\n       <use style=\"stroke:#000000;stroke-width:0.8;\" x=\"26.925\" xlink:href=\"#m100079995e\" y=\"177.575065\"/>\n      </g>\n     </g>\n     <g id=\"text_8\">\n      <!-- 5 -->\n      <g transform=\"translate(13.5625 181.374284)scale(0.1 -0.1)\">\n       <defs>\n        <path d=\"M 10.796875 72.90625 \nL 49.515625 72.90625 \nL 49.515625 64.59375 \nL 19.828125 64.59375 \nL 19.828125 46.734375 \nQ 21.96875 47.46875 24.109375 47.828125 \nQ 26.265625 48.1875 28.421875 48.1875 \nQ 40.625 48.1875 47.75 41.5 \nQ 54.890625 34.8125 54.890625 23.390625 \nQ 54.890625 11.625 47.5625 5.09375 \nQ 40.234375 -1.421875 26.90625 -1.421875 \nQ 22.3125 -1.421875 17.546875 -0.640625 \nQ 12.796875 0.140625 7.71875 1.703125 \nL 7.71875 11.625 \nQ 12.109375 9.234375 16.796875 8.0625 \nQ 21.484375 6.890625 26.703125 6.890625 \nQ 35.15625 6.890625 40.078125 11.328125 \nQ 45.015625 15.765625 45.015625 23.390625 \nQ 45.015625 31 40.078125 35.4375 \nQ 35.15625 39.890625 26.703125 39.890625 \nQ 22.75 39.890625 18.8125 39.015625 \nQ 14.890625 38.140625 10.796875 36.28125 \nz\n\" id=\"DejaVuSans-53\"/>\n       </defs>\n       <use xlink:href=\"#DejaVuSans-53\"/>\n      </g>\n     </g>\n    </g>\n    <g id=\"ytick_3\">\n     <g id=\"line2d_17\">\n      <path clip-path=\"url(#pbc4ef24468)\" d=\"M 26.925 130.51013 \nL 361.725 130.51013 \n\" style=\"fill:none;stroke:#b0b0b0;stroke-linecap:square;stroke-width:0.8;\"/>\n     </g>\n     <g id=\"line2d_18\">\n      <g>\n       <use style=\"stroke:#000000;stroke-width:0.8;\" x=\"26.925\" xlink:href=\"#m100079995e\" y=\"130.51013\"/>\n      </g>\n     </g>\n     <g id=\"text_9\">\n      <!-- 10 -->\n      <g transform=\"translate(7.2 134.309349)scale(0.1 -0.1)\">\n       <defs>\n        <path d=\"M 12.40625 8.296875 \nL 28.515625 8.296875 \nL 28.515625 63.921875 \nL 10.984375 60.40625 \nL 10.984375 69.390625 \nL 28.421875 72.90625 \nL 38.28125 72.90625 \nL 38.28125 8.296875 \nL 54.390625 8.296875 \nL 54.390625 0 \nL 12.40625 0 \nz\n\" id=\"DejaVuSans-49\"/>\n       </defs>\n       <use xlink:href=\"#DejaVuSans-49\"/>\n       <use x=\"63.623047\" xlink:href=\"#DejaVuSans-48\"/>\n      </g>\n     </g>\n    </g>\n    <g id=\"ytick_4\">\n     <g id=\"line2d_19\">\n      <path clip-path=\"url(#pbc4ef24468)\" d=\"M 26.925 83.445195 \nL 361.725 83.445195 \n\" style=\"fill:none;stroke:#b0b0b0;stroke-linecap:square;stroke-width:0.8;\"/>\n     </g>\n     <g id=\"line2d_20\">\n      <g>\n       <use style=\"stroke:#000000;stroke-width:0.8;\" x=\"26.925\" xlink:href=\"#m100079995e\" y=\"83.445195\"/>\n      </g>\n     </g>\n     <g id=\"text_10\">\n      <!-- 15 -->\n      <g transform=\"translate(7.2 87.244414)scale(0.1 -0.1)\">\n       <use xlink:href=\"#DejaVuSans-49\"/>\n       <use x=\"63.623047\" xlink:href=\"#DejaVuSans-53\"/>\n      </g>\n     </g>\n    </g>\n    <g id=\"ytick_5\">\n     <g id=\"line2d_21\">\n      <path clip-path=\"url(#pbc4ef24468)\" d=\"M 26.925 36.38026 \nL 361.725 36.38026 \n\" style=\"fill:none;stroke:#b0b0b0;stroke-linecap:square;stroke-width:0.8;\"/>\n     </g>\n     <g id=\"line2d_22\">\n      <g>\n       <use style=\"stroke:#000000;stroke-width:0.8;\" x=\"26.925\" xlink:href=\"#m100079995e\" y=\"36.38026\"/>\n      </g>\n     </g>\n     <g id=\"text_11\">\n      <!-- 20 -->\n      <g transform=\"translate(7.2 40.179478)scale(0.1 -0.1)\">\n       <use xlink:href=\"#DejaVuSans-50\"/>\n       <use x=\"63.623047\" xlink:href=\"#DejaVuSans-48\"/>\n      </g>\n     </g>\n    </g>\n   </g>\n   <g id=\"patch_13\">\n    <path d=\"M 26.925 224.64 \nL 26.925 7.2 \n\" style=\"fill:none;stroke:#000000;stroke-linecap:square;stroke-linejoin:miter;stroke-width:0.8;\"/>\n   </g>\n   <g id=\"patch_14\">\n    <path d=\"M 361.725 224.64 \nL 361.725 7.2 \n\" style=\"fill:none;stroke:#000000;stroke-linecap:square;stroke-linejoin:miter;stroke-width:0.8;\"/>\n   </g>\n   <g id=\"patch_15\">\n    <path d=\"M 26.925 224.64 \nL 361.725 224.64 \n\" style=\"fill:none;stroke:#000000;stroke-linecap:square;stroke-linejoin:miter;stroke-width:0.8;\"/>\n   </g>\n   <g id=\"patch_16\">\n    <path d=\"M 26.925 7.2 \nL 361.725 7.2 \n\" style=\"fill:none;stroke:#000000;stroke-linecap:square;stroke-linejoin:miter;stroke-width:0.8;\"/>\n   </g>\n  </g>\n </g>\n <defs>\n  <clipPath id=\"pbc4ef24468\">\n   <rect height=\"217.44\" width=\"334.8\" x=\"26.925\" y=\"7.2\"/>\n  </clipPath>\n </defs>\n</svg>\n",
      "image/png": "[encoded data removed]"
     },
     "metadata": {
      "needs_background": "light"
     }
    }
   ],
   "source": [
    "### Genauere Untersuchung der Daten ###\n",
    "\n",
    "plt.figure()\n",
    "df_penguin.query('sex == \"MALE\" & species == \"Adelie\"')[\"culmen_length_mm\"].hist()\n",
    "df_penguin_adelie_float = df_penguin.query('sex == \"FEMALE\" and species == \"Adelie\"')[[\"culmen_length_mm\",\"culmen_depth_mm\",\"flipper_length_mm\",\"body_mass_g\"]]\n",
    "display(df_penguin_adelie_float)\n",
    "## nach Insel gruppieren und so \n",
    "display(df_penguin.groupby(\"sex\").count())\n",
    "\n",
    "display(df_penguin.query('species == \"Adelie\"').describe())\n",
    "\n",
    "# df_penguin.groupby([\"species\",\"island\",\"sex\"]).count()"
   ]
  },
  {
   "cell_type": "code",
   "execution_count": null,
   "metadata": {},
   "outputs": [],
   "source": [
    "# lets have a look again\n",
    "df_penguin.info()"
   ]
  },
  {
   "cell_type": "markdown",
   "metadata": {},
   "source": [
    "Wir sehen, dass es einige Einträge gibt, die fehlende Werte haben (vorallem beim Sex)"
   ]
  },
  {
   "cell_type": "code",
   "execution_count": null,
   "metadata": {},
   "outputs": [],
   "source": [
    "### Merge Penguin_iters zusammenfügen mit Inseln ###"
   ]
  },
  {
   "cell_type": "markdown",
   "metadata": {},
   "source": [
    "### Working with the journal dataset"
   ]
  },
  {
   "cell_type": "markdown",
   "metadata": {},
   "source": [
    "### Merge journal and price Dataframes"
   ]
  },
  {
   "cell_type": "code",
   "execution_count": null,
   "metadata": {},
   "outputs": [],
   "source": [
    "df_journal.head()"
   ]
  },
  {
   "cell_type": "code",
   "execution_count": null,
   "metadata": {},
   "outputs": [],
   "source": [
    "df_price.head()"
   ]
  },
  {
   "cell_type": "code",
   "execution_count": null,
   "metadata": {},
   "outputs": [],
   "source": [
    "# get Number of ununique columns for possible merge\n",
    "def get_ununique_count(df, column):\n",
    "    return df[column].count() - df[column].nunique()\n",
    "\n",
    "print(df_price.columns)\n",
    "for column in df_price.columns:\n",
    "    print(column, get_ununique_count(df_price, column))\n",
    "\n",
    "print(df_journal.columns)\n",
    "for column in df_journal.columns:\n",
    "    print(column)\n",
    "    print(get_ununique_count(df_journal, column))\n"
   ]
  },
  {
   "cell_type": "code",
   "execution_count": null,
   "metadata": {},
   "outputs": [],
   "source": [
    "# merging two dataframes\n",
    "\n",
    "df_merge = pd.merge(df_journal, df_price, how='inner', left_on='issn', right_on='journal_id',\n",
    "         left_index=False, right_index=False, sort=True,\n",
    "         suffixes=('_x', '_y'), copy=True, indicator=False,\n",
    "         validate=None)[[\"journal_name\", \"price\", \"category\", \"influence_id\"]]"
   ]
  },
  {
   "cell_type": "code",
   "execution_count": null,
   "metadata": {},
   "outputs": [],
   "source": [
    "# lets have a look at the merged data\n",
    "print(df_merge.info())\n",
    "df_merge.head()"
   ]
  },
  {
   "cell_type": "code",
   "execution_count": null,
   "metadata": {},
   "outputs": [],
   "source": [
    "# get generall informations about the price of articles\n",
    "df_merge.price.describe()"
   ]
  },
  {
   "cell_type": "code",
   "execution_count": null,
   "metadata": {},
   "outputs": [],
   "source": [
    "# creat a lineplot\n",
    "df_merge.price.plot()"
   ]
  },
  {
   "cell_type": "code",
   "execution_count": null,
   "metadata": {},
   "outputs": [],
   "source": [
    "# create a histogramm with 16 bins\n",
    "df_merge.price.plot.hist(bins=16)"
   ]
  },
  {
   "cell_type": "code",
   "execution_count": null,
   "metadata": {},
   "outputs": [],
   "source": [
    "# get all articles with price 0\n",
    "df_merge[df_merge.price == 0].count()"
   ]
  },
  {
   "cell_type": "code",
   "execution_count": null,
   "metadata": {},
   "outputs": [],
   "source": [
    "# get grouped information about journals\n",
    "table = pd.pivot_table(df_merge, values=[\"price\"], index=\"journal_name\", aggfunc={'price': [min, max ,np.sum, len, np.mean]})\n",
    "table.sort_values(by=(\"price\", \"sum\"), ascending=False)"
   ]
  },
  {
   "cell_type": "code",
   "execution_count": null,
   "metadata": {},
   "outputs": [],
   "source": [
    "# export table to excel-format\n",
    "table.to_excel(\"././FlourishOA_Data/journal-price_pivot-table.xlsx\")\n",
    "# want more possibilities to work with excel? https://pbpython.com/improve-pandas-excel-output.html"
   ]
  },
  {
   "cell_type": "markdown",
   "metadata": {},
   "source": [
    "# Für Notebook 2"
   ]
  },
  {
   "cell_type": "markdown",
   "metadata": {},
   "source": [
    "Und zum Schluss noch eini\n",
    "\n",
    "### [Keyboard Shortcuts](https://jupyter-notebook.readthedocs.io/en/stable/examples/Notebook/Custom%20Keyboard%20Shortcuts.html)\n",
    "\n",
    "| Command | Action |\n",
    "| --- | --- |\n",
    "|Ctrl + Enter | run selected cells |\n",
    "|Alt + Enter | run the current cell, insert below |\n",
    "|Shift + Enter | run the current cell, select below |\n",
    "|Ctrl + S | save and checkpoint |\n",
    "\n",
    "### [Magic-Commands and othes](https://ipython.readthedocs.io/en/stable/interactive/magics.html)\n",
    "\n",
    "| Command | Action |\n",
    "| --- | --- |\n",
    "| %load python_file.py| load code from python_file.py into Cell |\n",
    "| %run python_file.py| run python_file.py |\n",
    "| %time | times how long a cell needs to finish |\n",
    "| %ls | shows file in the current directory |\n",
    "| %pwd | shows path of the current directory |\n",
    "\n",
    "Want more? Here are [28 Tips, Tricks and Shortcuts](https://www.dataquest.io/blog/jupyter-notebook-tips-tricks-shortcuts/)."
   ]
  },
  {
   "cell_type": "code",
   "execution_count": null,
   "metadata": {},
   "outputs": [],
   "source": [
    "\n",
    "# Show visualisation inside the notebook (not needed anymore in newer versions)\n",
    "%matplotlib inline "
   ]
  },
  {
   "cell_type": "code",
   "execution_count": null,
   "metadata": {},
   "outputs": [],
   "source": []
  },
  {
   "source": [
    "Achtung!!! Die `.plot`-Methode hat einige Eigenheiten, was gemeinsam in einem Bild dargestellt wird. Dabei lässt sich folgendes Merken:\n",
    "\n",
    "- Bei Aufruf einer `plot`-Methode eines `DataFrame` oder bei dem Aufruf der Methode `plt.figure()` wird ein neues Canvas erstellt\n",
    "- Bei Aufruf einer Plot-Methode einer Serie wird dieses auf der letzten Canvas mit dargestellt\n",
    "\n",
    "Hier einige Beispiel, um dies besser zu visualisieren"
   ],
   "cell_type": "markdown",
   "metadata": {}
  },
  {
   "cell_type": "code",
   "execution_count": 2,
   "metadata": {},
   "outputs": [
    {
     "output_type": "error",
     "ename": "NameError",
     "evalue": "name 'df_grades' is not defined",
     "traceback": [
      "\u001b[0;31m---------------------------------------------------------------------------\u001b[0m",
      "\u001b[0;31mNameError\u001b[0m                                 Traceback (most recent call last)",
      "\u001b[0;32m<ipython-input-2-9292ea061c36>\u001b[0m in \u001b[0;36m<module>\u001b[0;34m\u001b[0m\n\u001b[1;32m      1\u001b[0m \u001b[0;31m# Alle\u001b[0m\u001b[0;34m\u001b[0m\u001b[0;34m\u001b[0m\u001b[0;34m\u001b[0m\u001b[0m\n\u001b[0;32m----> 2\u001b[0;31m \u001b[0mdf_grades\u001b[0m\u001b[0;34m[\u001b[0m\u001b[0;34m\"grade\"\u001b[0m\u001b[0;34m]\u001b[0m\u001b[0;34m.\u001b[0m\u001b[0mplot\u001b[0m\u001b[0;34m.\u001b[0m\u001b[0mhist\u001b[0m\u001b[0;34m(\u001b[0m\u001b[0mbins\u001b[0m\u001b[0;34m=\u001b[0m\u001b[0;36m6\u001b[0m\u001b[0;34m,\u001b[0m \u001b[0mgrid\u001b[0m\u001b[0;34m=\u001b[0m\u001b[0;32mFalse\u001b[0m\u001b[0;34m)\u001b[0m\u001b[0;34m\u001b[0m\u001b[0;34m\u001b[0m\u001b[0m\n\u001b[0m\u001b[1;32m      3\u001b[0m \u001b[0mdf_grades\u001b[0m\u001b[0;34m[\u001b[0m\u001b[0;34m\"size\"\u001b[0m\u001b[0;34m]\u001b[0m\u001b[0;34m.\u001b[0m\u001b[0mplot\u001b[0m\u001b[0;34m.\u001b[0m\u001b[0mline\u001b[0m\u001b[0;34m(\u001b[0m\u001b[0;34m)\u001b[0m\u001b[0;34m\u001b[0m\u001b[0;34m\u001b[0m\u001b[0m\n\u001b[1;32m      4\u001b[0m \u001b[0mdf_fruit\u001b[0m\u001b[0;34m[\u001b[0m\u001b[0;34m\"Numbers\"\u001b[0m\u001b[0;34m]\u001b[0m\u001b[0;34m.\u001b[0m\u001b[0mplot\u001b[0m\u001b[0;34m.\u001b[0m\u001b[0mhist\u001b[0m\u001b[0;34m(\u001b[0m\u001b[0;34m)\u001b[0m\u001b[0;34m\u001b[0m\u001b[0;34m\u001b[0m\u001b[0m\n\u001b[1;32m      5\u001b[0m \u001b[0mdf_fruit\u001b[0m\u001b[0;34m.\u001b[0m\u001b[0mplot\u001b[0m\u001b[0;34m.\u001b[0m\u001b[0mscatter\u001b[0m\u001b[0;34m(\u001b[0m\u001b[0mx\u001b[0m\u001b[0;34m=\u001b[0m\u001b[0;34m\"Numbers\"\u001b[0m\u001b[0;34m,\u001b[0m\u001b[0my\u001b[0m\u001b[0;34m=\u001b[0m\u001b[0;34m\"Cost\"\u001b[0m\u001b[0;34m)\u001b[0m\u001b[0;34m\u001b[0m\u001b[0;34m\u001b[0m\u001b[0m\n",
      "\u001b[0;31mNameError\u001b[0m: name 'df_grades' is not defined"
     ]
    }
   ],
   "source": [
    "# Alle\n",
    "df_grades[\"grade\"].plot.hist(bins=6, grid=False)\n",
    "df_grades[\"size\"].plot.line()\n",
    "df_fruit[\"Numbers\"].plot.hist()\n",
    "df_fruit.plot.scatter(x=\"Numbers\",y=\"Cost\")\n",
    "df_grades[\"size\"].plot.line()"
   ]
  },
  {
   "cell_type": "code",
   "execution_count": null,
   "metadata": {},
   "outputs": [],
   "source": [
    "Wie du siehtst, wurden die drei Aufrufe von `plot` alle zusammen in einem Diagramm dargestellt, was eine nützliche Funktion darstellt. Soll eine Visualisierung in einem neuen Diagramm dargestellt werden, muss vorher die Methode `plt.figure()` ausegführt werden, um ein neue Grundlage zu erstellen, auf der die Diagramme geschrieben werden\n"
   ]
  },
  {
   "cell_type": "code",
   "execution_count": 6,
   "metadata": {},
   "outputs": [
    {
     "output_type": "error",
     "ename": "NameError",
     "evalue": "name 'df_penguin_nona_1' is not defined",
     "traceback": [
      "\u001b[0;31m---------------------------------------------------------------------------\u001b[0m",
      "\u001b[0;31mNameError\u001b[0m                                 Traceback (most recent call last)",
      "\u001b[0;32m<ipython-input-6-e0493b9b163a>\u001b[0m in \u001b[0;36m<module>\u001b[0;34m\u001b[0m\n\u001b[1;32m      5\u001b[0m \u001b[0;31m#            return value\u001b[0m\u001b[0;34m\u001b[0m\u001b[0;34m\u001b[0m\u001b[0;34m\u001b[0m\u001b[0m\n\u001b[1;32m      6\u001b[0m \u001b[0;34m\u001b[0m\u001b[0m\n\u001b[0;32m----> 7\u001b[0;31m df_penguin_nona_1[\"species\"] = df_penguin_nona_1[\"species\"].apply(\n\u001b[0m\u001b[1;32m      8\u001b[0m     \u001b[0mreplace_list_with_new_value\u001b[0m\u001b[0;34m,\u001b[0m\u001b[0;34m\u001b[0m\u001b[0;34m\u001b[0m\u001b[0m\n\u001b[1;32m      9\u001b[0m     \u001b[0margs\u001b[0m \u001b[0;34m=\u001b[0m \u001b[0;34m[\u001b[0m\u001b[0;34m]\u001b[0m\u001b[0;34m\u001b[0m\u001b[0;34m\u001b[0m\u001b[0m\n",
      "\u001b[0;31mNameError\u001b[0m: name 'df_penguin_nona_1' is not defined"
     ]
    }
   ],
   "source": [
    "# def replace_list_with_new_value(value, replace_list, new_value)\n",
    "#      if value in replace_list:\n",
    "#           return new_value\n",
    "#       else:\n",
    "#            return value\n",
    "\n",
    "df_penguin_nona_1[\"species\"] = df_penguin_nona_1[\"species\"].apply(\n",
    "    replace_list_with_new_value,\n",
    "    args = []\n",
    "    )\n"
   ]
  },
  {
   "cell_type": "code",
   "execution_count": null,
   "metadata": {},
   "outputs": [],
   "source": [
    "# Mehr Infos zu Datentypen gibt es hier\n",
    "# https://pbpython.com/pandas_dtypes.html"
   ]
  }
 ],
 "metadata": {
  "kernelspec": {
   "display_name": "Python 3",
   "language": "python",
   "name": "python3"
  },
  "language_info": {
   "codemirror_mode": {
    "name": "ipython",
    "version": 3
   },
   "file_extension": ".py",
   "mimetype": "text/x-python",
   "name": "python",
   "nbconvert_exporter": "python",
   "pygments_lexer": "ipython3",
   "version": "3.8.5-final"
  }
 },
 "nbformat": 4,
 "nbformat_minor": 2
}