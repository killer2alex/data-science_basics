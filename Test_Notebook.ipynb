{
 "cells": [
  {
   "cell_type": "markdown",
   "metadata": {},
   "source": [
    "# Data Wrangling mit Python I\n",
    "\n",
    "## Einführung\n",
    "\n",
    "Die Programmiersprache Python hat in den letzten Jahren unglaublich an Beliebtheit gewonnen (Stack Overflow anfragen mit angeben?). Dies liegt zum einen an der Einsteigerfreundlichkeit und zum anderen an den vielen Anwendungsmöglichkeiten. Vorallem im  wissenschaftlichen Bereich ist wird es für die Data-Analysis und das Machine Learning zu einem einsteigerfreundlichen und mächtigen Werkzeug geworden.  \n",
    "Im Rahmen dieses Kurses soll in diesem Jupyter-Notebook(dazu gleich mehr) grundlegende Begriffe bei der Arbeit mit Pandas (dazu dann später mehr) vorgestellt werden.  Datenaufbereitung - auch Data Wrangling oder Datan Mungling genant - erlernen zu lassen.\n",
    "\n"
   ]
  },
  {
   "source": [
    "## Womit arbeiten wir?\n",
    "\n",
    "### Jupyter-Notebook\n",
    "\n",
    "Unser Arbeitsmittel ist ein Jupyter-Notebook (im weiteren nur noch Notebook genannt). Dieses durch Zellen struktuierte Arbeitsoberflöche lässt uns ausführbaren Code mit stylierbaren Textzeilen verbinden. Dadurch können wir unsere Arbeitsschritte nachvollziehbar halten und zudem dokumentieren.\n",
    "\n",
    "Grundsätzlich lassen sich die Zellen eines Notebooks in drei Typen unterteilen:\n",
    "\n",
    "1. Text-Zellen zur formatierten Ausgabe von Text\n",
    "2. Code-Zellen zur Ausführung von Python-Code\n",
    "3. Output-Zellen zur Ausgabe der Ergebnisse von Code-Zellen\n",
    "\n",
    "Anders als bei der [WYSIWYG](https://de.wikipedia.org/wiki/WYSIWYG \"Klick\") Textbearbeitung - welche bei Microsoft Word oder Libre Office Writer verwendet wird - schreiben wir die Formatierung des Textes mit in den  selbst. Dabei kann sowohl das verkürzte [Markdown-Format](https://markdown.de/) oder auch HTML verwendet werden. Genauere Informationen gibt es in der [Jupyter-Notebook Dokumentation](https://jupyter-notebook.readthedocs.io/en/stable/examples/Notebook/Working%20With%20Markdown%20Cells.html) und auf diesem [Cheatsheet](https://www.heise.de/mac-and-i/downloads/65/1/1/6/7/1/0/3/Markdown-CheatSheet-Deutsch.pdf).\n",
    "\n",
    "Code-Zellen werden mit als Zellen mit grauem Hintergrund dargestellt und können mittels des kleinen Dreiecks (oder der Tastenkombination <kbd>Ctrl + Enter</kbd>) ausgeführt werden. Probiere es mal mit der nächsten Zelle aus!"
   ],
   "cell_type": "markdown",
   "metadata": {}
  },
  {
   "cell_type": "code",
   "execution_count": 4,
   "metadata": {
    "tags": []
   },
   "outputs": [
    {
     "output_type": "stream",
     "name": "stdout",
     "text": [
      "Hello, my Friend Alex!!!\nAlex\n"
     ]
    },
    {
     "output_type": "display_data",
     "data": {
      "text/plain": "'Alex'"
     },
     "metadata": {}
    },
    {
     "output_type": "execute_result",
     "data": {
      "text/plain": [
       "'Alex'"
      ]
     },
     "metadata": {},
     "execution_count": 4
    }
   ],
   "source": [
    "# Dies ist eine Zelle, in der Code ausgeführt werden kann.\n",
    "\n",
    "def say_hello_to(name):\n",
    "    return f\"Hello, my Friend {name}!!!\"  # https://realpython.com/python-f-strings/\n",
    "\n",
    "my_name = \"Alex\"\n",
    "print(say_hello_to(my_name))\n",
    "\n",
    "# Die Output-Zelle für diese Code-Zelle \n",
    "# erscheint nach der Ausführung gleich unter ihr\n",
    "print(my_name)\n",
    "display(my_name)\n",
    "my_name"
   ]
  },
  {
   "source": [
    "Super oder? Das Ausführen des Codes funktioniert also ähnlich zur Ausführung eines Python-Skript. Die Code-Zellen besitzen jedoch einige Eigenheiten, die wir von einem Python-Skript nicht kennen. Beispielsweise wird wird die Letzte Zeile einer Code-Zelle ausgegeben, was an der Ausgabe `'Alex'` zu sehen ist. Diese Ausgabe lässt sich auch mit der Methode `display()` erreichen und unterscheidet sich von der Methode `print()`.  \n",
    "Gucken wir uns eine weitere Eigenheit am folgenden Beispiel an...(bitte Code ausführen)\n",
    "\n",
    "PS: Überlegt vor der Ausführung kurz, was eigentlich passieren sollte, wenn die untere Code als Python-Skript ausgeführt wird."
   ],
   "cell_type": "markdown",
   "metadata": {}
  },
  {
   "cell_type": "code",
   "execution_count": 12,
   "metadata": {
    "tags": []
   },
   "outputs": [
    {
     "output_type": "stream",
     "name": "stdout",
     "text": "Hello, my Friend Alex!!!\n"
    }
   ],
   "source": [
    "print(say_hello_to(my_name))"
   ]
  },
  {
   "source": [
    "Die Funktion `say_hello_to()` kann mit dem Parameter `my_name` aufgerufen werden, obwohl weder die Funktion `say_hello_to()` noch die Variable `my_name` in der Code-Zelle definiert wurde. Es zeigt sich, dass die Ergebnisse jeder ausgeführten Code-Zelle auch nach ihrer Beending der Notebook-Umgebung zur Verfügung steht. Damit ist die Reihenfolge der Ausführung bei einem Notebook entscheidend und muss beachtet werden!  \n",
    "Besonders bei der Importierung von Packeten sowie der Wiederverwendung von Funktionen und Variablen-Namen sollte dieses \"Gedächtnis\" des Notebooks beachtet werden.\n",
    "\n",
    "PS: Soll das \"Gedächtnis\" gelöscht werden, muss der Kernel des Notebooks zurückgesetzt werden. Dies kann in der oberen Tool-Leiste durchgeführt werden."
   ],
   "cell_type": "markdown",
   "metadata": {}
  },
  {
   "source": [
    "### Python-Pakete\n",
    "\n",
    "Um beim Programmieren nicht alles selbst programmieren zu müssen, greifen wir auf Erfahrung anderer Programmierer/-innen mittels Pakete zu.\n",
    "Grundlage für die Datenaufbereitung sind die folgenden 3 Pakete:\n",
    "\n",
    "1. **Pandas** für vereinfachte Datenmanipulation und -analyse\n",
    "2. **Numpy** für numerische Berechnungen und der Arbeit mit Matrizen\n",
    "3. **Matplotlib** für die Visualiserung (Diagramme, Histogramme, ...)\n",
    "\n",
    "Diese werden zu Begin unseres Notebooks mittels des folgenden Codes importiert..."
   ],
   "cell_type": "markdown",
   "metadata": {}
  },
  {
   "cell_type": "code",
   "execution_count": 8,
   "metadata": {},
   "outputs": [],
   "source": [
    "# die Abkürzungen am besten beibehalten\n",
    "import pandas as pd\n",
    "import numpy as np\n",
    "import matplotlib.pyplot as plt"
   ]
  },
  {
   "source": [
    "## Wichtige Konzepte\n",
    "Im folgenden Werden wir uns genauer mit einigen wichtigen Konzepte der vorgestellten Pakete beschäftigen. "
   ],
   "cell_type": "markdown",
   "metadata": {}
  },
  {
   "cell_type": "markdown",
   "metadata": {},
   "source": [
    "### Konzept 1. `Serie` von Pandas\n",
    "\n",
    "Series welche mit einer einzigen (Zeit-)Reihe vergleichbar ist und bestandteil eines Dataframe ist. Im folgenden sehen wir, wie wir Serien erstellen können \n",
    "\n",
    "Tipp: am besten jede Serie mit `s_` beginnen um sie klar von anderen Python-Objekten unterscheidbar zu machen. sehr einfach können wir Python-Listen und NumPy-Arrays zu Serien umbauen ..."
   ]
  },
  {
   "cell_type": "code",
   "execution_count": 2,
   "metadata": {
    "tags": []
   },
   "outputs": [
    {
     "output_type": "stream",
     "name": "stdout",
     "text": "0      3.654183\n1    139.385421\n2     22.924473\n3    149.365162\n4    119.722332\n5    115.306097\n6    128.488179\n7     18.509560\n8    163.925146\n9     63.061617\ndtype: float64\n0    121.241331\n1      9.718013\n2    122.002946\n3     12.145526\n4    162.136387\n5    151.973022\n6     77.696134\n7    145.270794\n8      8.540165\n9      3.835722\ndtype: float64\n"
    }
   ],
   "source": [
    "# Erstellungsmöglichkeiten einer Serie\n",
    "\n",
    "# mehr Informationen über die Erstellung von Zufallszahlen gibt es hier: https://docs.scipy.org/doc/numpy-1.15.0/reference/routines.random.html oder https://pandas.pydata.org/pandas-docs/version/0.22.0/generated/pandas.Series.sample.html\n",
    "\n",
    "\n",
    "float_list = list(np.random.random(10)*180)\n",
    "s_float = pd.Series(float_list)\n",
    "print(s_float)\n",
    "# es können auch NumPy-Objekte - Wie das `numpy.array` - genutzt werden\n",
    "float_array = np.array(np.random.random(10)*180)\n",
    "s_float_array = pd.Series(float_array)\n",
    "print(s_float_array)\n",
    "!!! Display(serie) nicht vergessen\n",
    "!!! Vielleicht noch Zugriff mit aufnehmen?? \n",
    "Um auf einen bestimmten Wert mittels eines zugreifen zu können, müssen - ähnlich zu einer Liste - die eckigen Klammern verwendet werden"
   ]
  },
  {
   "source": [
    "So weit so gut! Jetz bist du dran. Erstelle in der unteren Code-Zelle die geforderten Objekte "
   ],
   "cell_type": "markdown",
   "metadata": {}
  },
  {
   "cell_type": "code",
   "execution_count": 3,
   "metadata": {
    "tags": []
   },
   "outputs": [
    {
     "output_type": "stream",
     "name": "stdout",
     "text": "0    1\n1    5\n2    6\n3    3\n4    2\n5    1\n6    4\n7    5\n8    2\n9    1\ndtype: int64\n\n0         alex\n1         paul\n2        paula\n3        erika\n4          jan\n5         karl\n6         vlad\n7    franziska\n8      sabrina\n9      florian\ndtype: object\n\n0         1\n1      zwei\n2         3\n3         4\n4      fünf\n5     6.111\n6    zieben\n7         8\n8    9.9999\n9       NaN\ndtype: object\n"
    }
   ],
   "source": [
    "### W1A1: Serien erstellen ###\n",
    "# Erstelle die folgenden Serien (die Werte müssen dabei nicht zufällig sein!)\n",
    "\n",
    "# Eine Serie mit 10 Elementen, aus der Menge M = {1,2,3,4,5,6} \n",
    "s_int = pd.Series([1,5,6,3,2,1,4,5,2,1])\n",
    "# Eine Serie mit 10 Vornamen (alles klein geschrieben)\n",
    "s_string = pd.Series([\"alex\", \"paul\", \"paula\",\"erika\", \"jan\",\"karl\", \"vlad\", \"franziska\", \"sabrina\", \"florian\"])\n",
    "# Eine Serie, in der Zeichenketten, ganze Zahlen und Gleitkommazahlen vorkommen \n",
    "s_mix = pd.Series([1,\"zwei\", 3.0, 4, \"fünf\", 6.111, \"zieben\", 8, 9.9999, np.NaN])\n",
    "print(s_int, s_string, s_mix, sep=\"\\n\\n\")"
   ]
  },
  {
   "source": [
    "Noch mehr Möglichkeiten Serien zu erstellen gibt es hier:\n",
    "mehr Infos und Möglichkeiten gibt es hier: https://www.geeksforgeeks.org/creating-a-pandas-series/"
   ],
   "cell_type": "markdown",
   "metadata": {}
  },
  {
   "source": [
    "Eigenschaften und Methoden von Serien\n",
    "\n",
    "Betrachten wir uns die Ausgabe unserer Serien fällt uns der `dtype` am unteren Ende jeder Serie auf. Dieser gibt den Typ der in der vorliegenden Serie an, solange dieser Eindeutig ist.\n",
    "`dtype` stellt dabei eine von vielen Eigenschaften dar, die eine Serie besitzt. durch den `.`(Punkt) können wir auf diese Eigenschaften zugreifen. \n"
   ],
   "cell_type": "markdown",
   "metadata": {}
  },
  {
   "cell_type": "code",
   "execution_count": 5,
   "metadata": {
    "tags": []
   },
   "outputs": [
    {
     "output_type": "stream",
     "name": "stdout",
     "text": "int64 float64 float64\n"
    }
   ],
   "source": [
    "print(s_int.dtype, s_float_array.dtype, s_float.dtype)"
   ]
  },
  {
   "source": [
    "Mit diesem Wissen und der [Dokumentation](https://pandas.pydata.org/pandas-docs/stable/reference/api/pandas.Series.html) können nun die folgenden Aufgaben erledigt werden..."
   ],
   "cell_type": "markdown",
   "metadata": {}
  },
  {
   "cell_type": "code",
   "execution_count": 6,
   "metadata": {
    "tags": []
   },
   "outputs": [
    {
     "output_type": "stream",
     "name": "stdout",
     "text": "10\nTrue\njan jan\n[&#39;alex&#39; &#39;paul&#39; &#39;paula&#39; &#39;erika&#39; &#39;jan&#39; &#39;karl&#39; &#39;vlad&#39; &#39;franziska&#39; &#39;sabrina&#39;\n &#39;florian&#39;]\nalex         1\npaul         5\npaula        6\nerika        3\njan          2\nkarl         1\nvlad         4\nfranziska    5\nsabrina      2\nflorian      1\ndtype: int64\n"
    }
   ],
   "source": [
    "### W1A2: Eigenschaften von Serien ###\n",
    "# Erledige die folgenden Aufgaben und gib das Ergebnis aus\n",
    "\n",
    "# Gib die Anzahl an Elementen in s_float zurück\n",
    "print(s_float.size)\n",
    "# überprüfe, ob `s_mix` und `s_string` den selben Datentyp besitzen\n",
    "print(s_mix.dtype == s_string.dtype)\n",
    "# gib die 5. Stelle der Serie s_string` aus (Achte auf die Klammern!)\n",
    "print(s_string[4], s_string.iloc[4])\n",
    "# gibt die Werte von `s_string` als Liste zurück\n",
    "print(s_string.values)\n",
    "# setze den index von von `s_int` auf `s_string`\n",
    "s_int.index = s_string\n",
    "print(s_int)"
   ]
  },
  {
   "source": [
    "Neben den Eigenschaften besitzen Serien auch Methoden, welche ebenfalls mittels `.`(Punkt) aufrufbar sind - genau wie Funktionen - immer ein Klammerpaar besitzen. Als Rückgabewert können dabei neue Serien entstehen oder wichtige Werte über die Serie zurückgegeben werden...\n",
    "\n",
    "\n",
    "  (elche sich sich eher auf Serie als konzentrieren(Größe, Datentyp, Index) besitzen Serien auch Methoden. . Diesearbeiten - im Gegensatz zu den Eigenschaften die sich eher auf - mit den Werten der Serie. Beispielsweise kann mit () Diese MethodenWir sehen dabei folgendes\n",
    "Diese \n",
    "- dtype: Sind alle Objekte einer Serie vom selben Typ wie integer(ganze Zahlen), float(Gleitkommazahlen) erhällt auch die Serie diese Eigenschaft.\n",
    "- Serien aus gemischten Typen oder aus Zeichenketten erhalten hingegen den dtype `object`.\n",
    "`dtype` ist eine Eigenschaft, die jede Serie besitzte und von uns auch abgefragt "
   ],
   "cell_type": "markdown",
   "metadata": {}
  },
  {
   "cell_type": "code",
   "execution_count": 7,
   "metadata": {
    "tags": []
   },
   "outputs": [
    {
     "output_type": "stream",
     "name": "stdout",
     "text": "alex           1.000000\npaul           5.000000\npaula          6.000000\nerika          3.000000\njan            2.000000\nkarl           1.000000\nvlad           4.000000\nfranziska      5.000000\nsabrina        2.000000\nflorian        1.000000\n0              3.654183\n1            139.385421\n2             22.924473\n3            149.365162\n4            119.722332\n5            115.306097\n6            128.488179\n7             18.509560\n8            163.925146\n9             63.061617\ndtype: float64\n"
    },
    {
     "output_type": "error",
     "ename": "NameError",
     "evalue": "name &#39;max_s_float&#39; is not defined",
     "traceback": [
      "\u001b[0;31m---------------------------------------------------------------------------\u001b[0m",
      "\u001b[0;31mNameError\u001b[0m                                 Traceback (most recent call last)",
      "\u001b[0;32m&lt;ipython-input-7-4101af64890e&gt;\u001b[0m in \u001b[0;36m&lt;module&gt;\u001b[0;34m\u001b[0m\n\u001b[1;32m      5\u001b[0m \u001b[0;31m# Die Methode max() gibt den größten Wert einer numerischen Serie zurück\u001b[0m\u001b[0;34m\u001b[0m\u001b[0;34m\u001b[0m\u001b[0;34m\u001b[0m\u001b[0m\n\u001b[1;32m      6\u001b[0m \u001b[0mmax_s_int_float\u001b[0m \u001b[0;34m=\u001b[0m \u001b[0ms_int_float\u001b[0m\u001b[0;34m.\u001b[0m\u001b[0mmax\u001b[0m\u001b[0;34m(\u001b[0m\u001b[0;34m)\u001b[0m\u001b[0;34m\u001b[0m\u001b[0;34m\u001b[0m\u001b[0m\n\u001b[0;32m----&gt; 7\u001b[0;31m \u001b[0mprint\u001b[0m\u001b[0;34m(\u001b[0m\u001b[0;34mf&quot;Der Maximalwert von s_float ist {max_s_float}&quot;\u001b[0m\u001b[0;34m)\u001b[0m\u001b[0;34m\u001b[0m\u001b[0;34m\u001b[0m\u001b[0m\n\u001b[0m",
      "\u001b[0;31mNameError\u001b[0m: name &#39;max_s_float&#39; is not defined"
     ]
    }
   ],
   "source": [
    "# Die Methode `append()` \"klebt\" zwei Serien hintereinder und erzeugt somit eine dritte.\n",
    "s_int_float = s_int.append(s_float)\n",
    "print(s_int_float)\n",
    "\n",
    "# Die Methode max() gibt den größten Wert einer numerischen Serie zurück\n",
    "max_s_int_float = s_int_float.max()\n",
    "print(f\"Der Maximalwert von s_float ist {max_s_float}\")"
   ]
  },
  {
   "source": [
    "Eine Serie besitzt unzählige Methoden, die in verschiedenen Situationen Anwendung finden. Löse die folgenden Aufgaben um einige genauer kennen zu lernen..."
   ],
   "cell_type": "markdown",
   "metadata": {}
  },
  {
   "cell_type": "code",
   "execution_count": 19,
   "metadata": {
    "tags": []
   },
   "outputs": [
    {
     "output_type": "stream",
     "name": "stdout",
     "text": "8\n0    False\n1    False\n2    False\n3    False\n4    False\n5    False\n6    False\n7    False\n8    False\n9    False\ndtype: bool\n1      zwei\n2         3\n3         4\n4      fünf\n5     6.111\n6    zieben\n7         8\n8    9.9999\n9       NaN\ndtype: object\n0    False\n1    False\n2    False\n3    False\n4    False\n5    False\n6    False\n7    False\n8    False\n9    False\ndtype: bool\n924.3421703382513\n[1 5 6 3 2 4]\n"
    }
   ],
   "source": [
    "### W1A3 Funktionen von Serien ###\n",
    "\n",
    "# gibt die Anzahl aller Werte in `s_mix` zurück, die nicht `np.nan` sind\n",
    "print(s_mix.count())\n",
    "# überprüfe, ob deine Werte aus `s_string` in [\"ben\", \"marie\", \"sophia\", \"jonas\"] liegen\n",
    "searched_names = [\"ben\", \"marie\", \"sophia\", \"jonas\"]\n",
    "print(s_string.isin(searched_names))\n",
    "# entferne das 1. Element von `s_mix` und gib sowohl das Element als auch die neue Serie aus\n",
    "#print(s_mix.pop(0))\n",
    "print(s_mix)\n",
    "# überprüfe, ob `s_float` Werte vom Typ `na.nan` besitzt\n",
    "print(s_float.isna())\n",
    "# gib die Summe aller Werte von `s_float` zurück\n",
    "print(s_float.sum())\n",
    "# gib alle vorhandenen Elemente von `s_int` zurück\n",
    "print(s_int.unique())"
   ]
  },
  {
   "source": [
    "Besonders interessant ist die Methode `apply()`, welche eine Funktion mit jedem Wert einer Serie durchführt und diesen somit anpassen kann... "
   ],
   "cell_type": "markdown",
   "metadata": {}
  },
  {
   "cell_type": "code",
   "execution_count": 50,
   "metadata": {
    "tags": []
   },
   "outputs": [
    {
     "output_type": "stream",
     "name": "stdout",
     "text": "0         Alex\n1         paul\n2        Paula\n3        Erika\n4          Jan\n5         Karl\n6         Vlad\n7    Franziska\n8      Sabrina\n9      Florian\ndtype: object\n"
    }
   ],
   "source": [
    "# Der erste Buchstabe jeder unserer Vornamen in `s_string` wird Groß geschrieben, solange der Vorname nicht Paul ist\n",
    "def capitalize_if_not_paul(value):\n",
    "    if not value.upper() == \"PAUL\":\n",
    "        return value.capitalize()\n",
    "    else:\n",
    "        return value\n",
    "\n",
    "s_cap_without_paul_s_string = s_string.apply(capitalize_if_not_paul)\n",
    "print(s_cap_without_paul_s_string)"
   ]
  },
  {
   "source": [
    "Die Möglichkeit weitere Parameter an die Funktion zu übergeben und zukünftige Arbeitsschritte und Berechnungen vorzubereiten; macht `apply()` zu einem mächtigen Werzeug..."
   ],
   "cell_type": "markdown",
   "metadata": {}
  },
  {
   "cell_type": "code",
   "execution_count": 62,
   "metadata": {
    "tags": []
   },
   "outputs": [
    {
     "output_type": "stream",
     "name": "stdout",
     "text": "0     True\n1    False\n2    False\n3     True\n4     True\n5     True\n6     True\n7    False\n8     True\n9     True\ndtype: bool\npassed    7\nfailed    3\ndtype: int64\n0     True\n1    False\n2    False\n3    False\n4     True\n5     True\n6    False\n7    False\n8     True\n9     True\ndtype: bool\n1 or 2    5\nother     5\ndtype: int64\n"
    }
   ],
   "source": [
    "def boolean_grading (grade, pos_grades, neg_grades):\n",
    "    if grade in pos_grades:\n",
    "        return True\n",
    "    elif grade in neg_grades:\n",
    "        return False\n",
    "    else:\n",
    "        raise ValueError\n",
    "\n",
    "# Überprüfung auf Bestanden/Durchgefallen\n",
    "passing_grades = [1,2,3,4]\n",
    "failing_grades = [5,6]\n",
    "passed_s_int = s_int.apply(boolean_grading,args=(passing_grades,failing_grades))\n",
    "print(passed_s_int)\n",
    "\n",
    "s_passed_count = passed_s_int.value_counts()\n",
    "s_passed_count.index = [\"passed\",\"failed\"]\n",
    "print(s_passed_count)\n",
    "\n",
    "\n",
    "# Überprüfung auf 1 und 2\n",
    "good_and_great_grades = [1,2]\n",
    "other_grades = [3,4,5,6]\n",
    "good_and_great_s_int = s_int.apply(\n",
    "    boolean_grading,\n",
    "    args=(good_and_great_grades,other_grades)\n",
    ")\n",
    "print(good_and_great_s_int)\n",
    "\n",
    "s_good_great_count = good_and_great_s_int.value_counts()\n",
    "s_good_great_count.index = [\"1 or 2\", \"other\"]\n",
    "print(s_good_great_count)\n",
    "!!!replace mit aufnehmen"
   ]
  },
  {
   "source": [
    "### Konzept 2 DataFrame"
   ],
   "cell_type": "markdown",
   "metadata": {}
  },
  {
   "cell_type": "code",
   "execution_count": 1,
   "metadata": {},
   "outputs": [],
   "source": [
    "# Die wichtigesten Pakete werden erneut importiert, um das Kapitel für sich betrachten zu können\n",
    "# die Abkürzungen am besten beibehalten\n",
    "import pandas as pd\n",
    "import numpy as np\n",
    "import matplotlib.pyplot as plt"
   ]
  },
  {
   "source": [
    "\n",
    "\n",
    "Wie bereits erwähnt stellt eine Serie eine (Zeit-)Reihe dar, und besteht (neben vielen anderen Komponenten wie Datentyp und Name) aus einem Index und der Werte. Sollen mehrere Serien miteinander verbunden werden ist das DataFrame sehr nützlich. \n",
    "\n",
    "Im Gegensatz zu einer Serie welche - abgesehen vom Index - nur eine Spalte mit Werten besitzt, kann ein DataFrame beliebig viele Spalten in Tabellenform speichern.\n",
    "![DataFrame_image](https://www.geeksforgeeks.org/wp-content/uploads/creating_dataframe1.png)\n",
    "\n",
    "In der folgenden Code-Zelle wird zuerst die Erstellung und der Zugriff von Dataframes betrachtet. Wir empfehlen - ähnlich wie den Serien - jedes DataFrame mit `df` zu beginnen.  teilt sich viele Eigenschaften und Methoden mit den Serien und kann durch \n",
    "Das DataFrame kann auch als Kombination mehrerer Serien verstanden werden, welche die selbe Anzahl besitzen und nebeneinander \"geklebt\" wurden. Am besten ist es daher mit einer Tabelle vergleichbar, wobei auch jede Spalte als Serie gesehen kann.nur ein  erweitert werden, erhälttDas Dataframe stellt eine Tabellarische Darstellung von Daten zur Verfügung und erlaubt die Bearbeitung und Auswertung dieser. "
   ],
   "cell_type": "markdown",
   "metadata": {}
  },
  {
   "cell_type": "code",
   "execution_count": 2,
   "metadata": {
    "tags": []
   },
   "outputs": [
    {
     "output_type": "display_data",
     "data": {
      "text/plain": "       Name   Größe   Alter   Skill\n0      Alex  179.45      19     9.6\n1  Thorsten  178.43      23     8.9\n2      Paul  178.23      21     9.7",
      "text/html": "<div>\n<style scoped>\n    .dataframe tbody tr th:only-of-type {\n        vertical-align: middle;\n    }\n\n    .dataframe tbody tr th {\n        vertical-align: top;\n    }\n\n    .dataframe thead th {\n        text-align: right;\n    }\n</style>\n<table border=\"1\" class=\"dataframe\">\n  <thead>\n    <tr style=\"text-align: right;\">\n      <th></th>\n      <th>Name</th>\n      <th>Größe</th>\n      <th>Alter</th>\n      <th>Skill</th>\n    </tr>\n  </thead>\n  <tbody>\n    <tr>\n      <th>0</th>\n      <td>Alex</td>\n      <td>179.45</td>\n      <td>19</td>\n      <td>9.6</td>\n    </tr>\n    <tr>\n      <th>1</th>\n      <td>Thorsten</td>\n      <td>178.43</td>\n      <td>23</td>\n      <td>8.9</td>\n    </tr>\n    <tr>\n      <th>2</th>\n      <td>Paul</td>\n      <td>178.23</td>\n      <td>21</td>\n      <td>9.7</td>\n    </tr>\n  </tbody>\n</table>\n</div>"
     },
     "metadata": {}
    },
    {
     "output_type": "stream",
     "name": "stdout",
     "text": "        name  grade        size\n0       alex      1  163.785146\n1       paul      5  181.705791\n2      paula      6  171.132242\n3      erika      3  173.359460\n4        jan      2  171.954352\n5       karl      1  183.212112\n6       vlad      4  178.496513\n7  franziska      5  181.754546\n8    sabrina      2  148.497315\n9    florian      1  157.166278\n    Name  Numbers  Cost\n0  Apple       10  2.00\n1  Pears       14  3.45\n2  iuate       16  5.12\n3  itaer      100  1.12\n0    Apple\n1    Pears\n2    iuate\n3    itaer\nName: Name, dtype: object\n0    1\n1    5\n2    6\n3    3\n4    2\n5    1\n6    4\n7    5\n8    2\n9    1\nName: grade, dtype: int64\n"
    },
    {
     "output_type": "execute_result",
     "data": {
      "text/plain": "    Name  Numbers  Cost\n0  Apple       10  2.00\n1  Pears       14  3.45\n2  iuate       16  5.12\n3  itaer      100  1.12",
      "text/html": "<div>\n<style scoped>\n    .dataframe tbody tr th:only-of-type {\n        vertical-align: middle;\n    }\n\n    .dataframe tbody tr th {\n        vertical-align: top;\n    }\n\n    .dataframe thead th {\n        text-align: right;\n    }\n</style>\n<table border=\"1\" class=\"dataframe\">\n  <thead>\n    <tr style=\"text-align: right;\">\n      <th></th>\n      <th>Name</th>\n      <th>Numbers</th>\n      <th>Cost</th>\n    </tr>\n  </thead>\n  <tbody>\n    <tr>\n      <th>0</th>\n      <td>Apple</td>\n      <td>10</td>\n      <td>2.00</td>\n    </tr>\n    <tr>\n      <th>1</th>\n      <td>Pears</td>\n      <td>14</td>\n      <td>3.45</td>\n    </tr>\n    <tr>\n      <th>2</th>\n      <td>iuate</td>\n      <td>16</td>\n      <td>5.12</td>\n    </tr>\n    <tr>\n      <th>3</th>\n      <td>itaer</td>\n      <td>100</td>\n      <td>1.12</td>\n    </tr>\n  </tbody>\n</table>\n</div>"
     },
     "metadata": {},
     "execution_count": 2
    }
   ],
   "source": [
    "# Erstellung eines DataFrame aus einem Dictionairy\n",
    "fruit_dict = {\n",
    "    \"Name\": [\"Apple\", \"Pears\", \"iuate\", \"itaer\"],\n",
    "    \"Numbers\": [10, 14, 16,100],\n",
    "    \"Cost\": [2.0, 3.45, 5.12, 1.12]  # in Euro\n",
    "}\n",
    "df_fruit = pd.DataFrame(fruit_dict)\n",
    "\n",
    "\n",
    "# Erstellung eines DataFrame durch hinzufügen von Serien\n",
    "s_int = pd.Series([1,5,6,3,2,1,4,5,2,1])\n",
    "# Eine Serie mit 10 Vornamen (alles klein geschrieben)\n",
    "s_string = pd.Series([\"alex\", \"paul\", \"paula\",\"erika\", \"jan\",\"karl\", \"vlad\", \"franziska\", \"sabrina\", \"florian\"])\n",
    "s_float = pd.Series(np.random.normal(173, 10, 10))\n",
    "df_grades = pd.DataFrame()\n",
    "df_grades[\"name\"] = s_string\n",
    "df_grades[\"grade\"] = s_int\n",
    "df_grades[\"size\"] = s_float\n",
    "\n",
    "# Erstellung eines DataFrame aus einer CSV-Datei\n",
    "df_football = pd.read_csv(\"W1_csv-file.csv\")\n",
    "display(df_football)\n",
    "print(df_grades)\n",
    "print(df_fruit)\n",
    "\n",
    "# Zugriff auf eine Spalte/Serie \n",
    "print(df_fruit[\"Name\"])\n",
    "# Unterschied zwischen print(df_grades) und df_grades als letzter Aufruf einer Zelle beachten\n",
    "print(df_grades[\"grade\"])\n",
    "df_fruit\n",
    "\n",
    "# !!! auch den Zugriff auf mehrehre Spalten mit angeben"
   ]
  },
  {
   "source": [
    "# Eigenschaften und Methoden \n",
    "Ähnlich wie Serien besitzen auch auch DataFrames Eigenschaften und Methoden. Auch bei dem DataFrame kann auch diese mittels `.` (Punkt) zugreifen. Hier einige Beispiele für Eigenschaften und Methoden, die sich DataFrame und Serie teilen..."
   ],
   "cell_type": "markdown",
   "metadata": {}
  },
  {
   "cell_type": "code",
   "execution_count": 33,
   "metadata": {
    "tags": []
   },
   "outputs": [
    {
     "output_type": "stream",
     "name": "stdout",
     "text": "Einige Eigenschaften und Methoden haben DataFrames und Serien gemeinsman\nRangeIndex(start=0, stop=10, step=1)\n\n30\n\n(10, 3)\n\nname     10\ngrade    10\nsize     10\ndtype: int64\n\n    name  grade   size\n0  False  False  False\n1  False  False  False\n2  False  False  False\n3  False  False  False\n4  False  False  False\n5  False  False  False\n6  False  False  False\n7  False  False  False\n8  False  False  False\n9  False  False  False\n"
    }
   ],
   "source": [
    "# Einige Eigenschaften und Methoden haben DataFrame's und Serien gemeinsam\n",
    "print(\"Einige Eigenschaften und Methoden haben DataFrames und Serien gemeinsman\")\n",
    "print(\n",
    "    df_grades.index,\n",
    "    df_grades.size,\n",
    "    df_grades.shape,\n",
    "    df_grades.count(),\n",
    "    df_grades.isna(),\n",
    "    sep=\"\\n\\n\"\n",
    ")"
   ]
  },
  {
   "source": [
    "Es gibt jedoch auch Eigenschaften und Methoden die nur das DataFrame besitzt. Beispielsweise zeigt die Eigenschaft `columns` die Spaltennamen an. Im folgenden gibt es einige Aufgaben, deren Lösung wichtige Methoden eines DataFrame benötigen... Oftmals ist bereits ein Hinweis gegeben, welche Methode benötigt wird nutze die Dokumentation (und das Internet) um die Aufgaben zu lösen"
   ],
   "cell_type": "markdown",
   "metadata": {}
  },
  {
   "cell_type": "code",
   "execution_count": null,
   "metadata": {},
   "outputs": [],
   "source": [
    "Es gibt einige Methoden, die grundsätzliche Aussagen über ein DataFrame liefern. Dazu gehören "
   ]
  },
  {
   "cell_type": "code",
   "execution_count": 34,
   "metadata": {
    "tags": []
   },
   "outputs": [
    {
     "output_type": "stream",
     "name": "stdout",
     "text": "\n\nAndere Eigenschaften und Methoden kommen zusätzlich hinzu:\n\nIndex([&#39;name&#39;, &#39;grade&#39;, &#39;size&#39;], dtype=&#39;object&#39;)\n\n      name  grade        size\n0     alex      1  163.785146\n4      jan      2  171.954352\n5     karl      1  183.212112\n8  sabrina      2  148.497315\n9  florian      1  157.166278\n"
    },
    {
     "output_type": "execute_result",
     "data": {
      "text/plain": "0     True\n1    False\n2    False\n3    False\n4     True\n5     True\n6    False\n7    False\n8     True\n9     True\nName: grade, dtype: bool"
     },
     "metadata": {},
     "execution_count": 34
    }
   ],
   "source": [
    "#print(df_grades.dtypes)\n",
    "# Andere Eigenschaften und Methoden kommen zusätzlich hinzu\n",
    "print(\"\\n\\nAndere Eigenschaften und Methoden kommen zusätzlich hinzu:\\n\")\n",
    "print(\n",
    "    df_grades.columns,\n",
    "    df_grades.query(\"grade <= 2\"),\n",
    "    sep=\"\\n\\n\",\n",
    ")\n",
    "s_test=df_grades[\"grade\"] <= 2\n",
    "s_test"
   ]
  },
  {
   "cell_type": "code",
   "execution_count": 36,
   "metadata": {},
   "outputs": [
    {
     "output_type": "execute_result",
     "data": {
      "text/plain": "       name  size\ngrade            \n1         3     3\n2         2     2\n3         1     1\n4         1     1\n5         2     2\n6         1     1",
      "text/html": "<div>\n<style scoped>\n    .dataframe tbody tr th:only-of-type {\n        vertical-align: middle;\n    }\n\n    .dataframe tbody tr th {\n        vertical-align: top;\n    }\n\n    .dataframe thead th {\n        text-align: right;\n    }\n</style>\n<table border=\"1\" class=\"dataframe\">\n  <thead>\n    <tr style=\"text-align: right;\">\n      <th></th>\n      <th>name</th>\n      <th>size</th>\n    </tr>\n    <tr>\n      <th>grade</th>\n      <th></th>\n      <th></th>\n    </tr>\n  </thead>\n  <tbody>\n    <tr>\n      <th>1</th>\n      <td>3</td>\n      <td>3</td>\n    </tr>\n    <tr>\n      <th>2</th>\n      <td>2</td>\n      <td>2</td>\n    </tr>\n    <tr>\n      <th>3</th>\n      <td>1</td>\n      <td>1</td>\n    </tr>\n    <tr>\n      <th>4</th>\n      <td>1</td>\n      <td>1</td>\n    </tr>\n    <tr>\n      <th>5</th>\n      <td>2</td>\n      <td>2</td>\n    </tr>\n    <tr>\n      <th>6</th>\n      <td>1</td>\n      <td>1</td>\n    </tr>\n  </tbody>\n</table>\n</div>"
     },
     "metadata": {},
     "execution_count": 36
    }
   ],
   "source": [
    "### W1A4 Umgang mit DataFrame\n",
    "# Löse die folgenden Aufgaben\n",
    "# gib für `df_grades` alle Einträge aus, die eine bessere Note als 3 haben (query)\n",
    "# df_grades.query(...)\n",
    "# zeige in `df_football` lediglich die beiden Spalten `name` und `skill` an (filter)\n",
    "# Ändere die Spaltenüberschriften für `df_fruit` in die deutschen Übersetzungen\n",
    "# ändere den ersten Buchstaben aller Namen in der Spalte `name` in `df_grades` in Großbuchstaben\n",
    "# bestimme den Mittelwert und die Standardabweichung der Spalte `size` von `df_grades`\n",
    "# Zeige an, wie die Verteilung an Noten in `df_grades` ist (groupby)\n",
    "df_grades.groupby(\"grade\").count()\n",
    "# Sortiere das DataFrame `df_grades` absteigend nach der Größe (sort_values)\n",
    "#  !!! visualisierung\n",
    "# plt.figure() wenn eine neue Darstellung erstellt werden soll\n",
    "# df.hist() oder so für darstellung (geht auch mit serien)\n",
    "# kann ziemlich kompliziert werden am besten einfach halten und plot.hist() verwenden\n",
    "# wird plt.figure() nicht verwendet werden Alle Befehle zusammengesteckt"
   ]
  }
 ],
 "metadata": {
  "kernelspec": {
   "display_name": "Python 3",
   "language": "python",
   "name": "python3"
  },
  "language_info": {
   "codemirror_mode": {
    "name": "ipython",
    "version": 3
   },
   "file_extension": ".py",
   "mimetype": "text/x-python",
   "name": "python",
   "nbconvert_exporter": "python",
   "pygments_lexer": "ipython3",
   "version": "3.8.2-final"
  }
 },
 "nbformat": 4,
 "nbformat_minor": 2
}