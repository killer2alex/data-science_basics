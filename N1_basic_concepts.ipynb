{
 "cells": [
  {
   "cell_type": "markdown",
   "metadata": {},
   "source": [
    "# Data Wrangling mit Python I\n",
    "\n",
    "## Einführung\n",
    "\n",
    "Die Programmiersprache Python hat in den letzten Jahren unglaublich an Beliebtheit gewonnen (Stack Overflow anfragen mit angeben?). Dies liegt zum einen an der Einsteigerfreundlichkeit und zum anderen an den vielen Anwendungsmöglichkeiten. Vorallem im wissenschaftlichen Bereich ist es für die Daten Analyse und das Maschinelle Lernen zu einem einsteigerfreundlichen und mächtigen Werkzeug geworden.  \n",
    "Im Rahmen dieses Kurses soll die Arbeit mit Jupyter-Notebook Pandas (zu beidem gleich mehr) kurz vorgestellt werden. Ziel ist dabei ein mächtiges und nachvollziebares Mittel zur Datenaufbereitung kennen zu lernen.\n",
    "\n"
   ]
  },
  {
   "cell_type": "markdown",
   "metadata": {},
   "source": [
    "## Werkzeuge\n",
    "\n",
    "### Jupyter-Notebook\n",
    "\n",
    "Unser Arbeitsmittel ist ein Jupyter-Notebook (im weiteren nur noch Notebook genannt). Diese durch Zellen struktuierte Arbeitsoberfläche lässt uns ausführbaren Code mit stylierbaren Textzeilen verbinden. Dadurch können wir unsere Arbeitsschritte nachvollziehbar halten und gleichzeitig dokumentieren.\n",
    "\n",
    "Grundsätzlich lassen sich die Zellen eines Notebooks in drei Typen unterteilen:\n",
    "\n",
    "1. Text-Zellen zur formatierten Ausgabe von Text\n",
    "2. Code-Zellen zur Ausführung von Python-Code\n",
    "3. Output-Zellen zur Ausgabe der Ergebnisse von Code-Zellen\n",
    "\n",
    "Anders als bei der [WYSIWYG](https://de.wikipedia.org/wiki/WYSIWYG \"Einfach mal klicken ;-)\") Textbearbeitung - welche Beispielsweise bei Microsoft Word oder Libre Office Writer Verwendung findet - wird bei uns die Formatierung des Textes in den Text selbst geschrieben. Dabei wird das beliebte [Markdown-Format](https://markdown.de/) verwendet. Genauere Informationen gibt es in der [Jupyter-Notebook Dokumentation](https://jupyter-notebook.readthedocs.io/en/stable/examples/Notebook/Working%20With%20Markdown%20Cells.html) und auf diesem [Cheatsheet](https://www.heise.de/mac-and-i/downloads/65/1/1/6/7/1/0/3/Markdown-CheatSheet-Deutsch.pdf).\n",
    "\n",
    "Code-Zellen werden als Zellen mit grauem Hintergrund dargestellt und können mittels des kleinen Dreiecks (oder der Tastenkombination <kbd>Ctrl + Enter</kbd>) ausgeführt werden. Probiere es mal mit der nächsten Zelle aus!"
   ]
  },
  {
   "cell_type": "code",
   "execution_count": null,
   "metadata": {
    "tags": []
   },
   "outputs": [],
   "source": [
    "# Dies ist eine Zelle, in der Code ausgeführt werden kann.\n",
    "\n",
    "def say_hello_to(name):\n",
    "    return f\"Hello, my Friend {name}!!!\"  # https://realpython.com/python-f-strings/\n",
    "\n",
    "my_name = \"Alex\"\n",
    "print(say_hello_to(my_name))\n",
    "\n",
    "# Die Output-Zelle für diese Code-Zelle \n",
    "# erscheint nach der Ausführung gleich unter ihr"
   ]
  },
  {
   "cell_type": "markdown",
   "metadata": {},
   "source": [
    "Super oder? Das Ausführen einer Code-Zelle funktioniert also wie die Ausführung eines Python-Skripts. Die Code-Zellen im Notebook besitzen jedoch einige Eigenheiten, die wir von einem Python-Skript nicht kennen."
   ]
  },
  {
   "cell_type": "code",
   "execution_count": null,
   "metadata": {},
   "outputs": [],
   "source": [
    "test_name = \"Test Name\"\n",
    "print(\"test_name\")\n",
    "display(\"test_name\")\n",
    "test_name"
   ]
  },
  {
   "cell_type": "markdown",
   "metadata": {},
   "source": [
    "Beispielsweise wird die letzte Zeile einer Code-Zelle ausgegeben, was an der Ausgabe `'Test Name'` zu sehen ist. Diese Ausgabe lässt sich auch mit der Methode `display()` erreichen und unterscheidet sich teilweise wesentlich von der Ausgabe durch die Methode `print()`, was im Verlauf des Notebooks klarer wird.\n",
    "\n",
    "Schauen wir uns eine weitere Eigenheit am nächsten Beispiel an. Überlege dir jedoch vor Ausführung der Code-Zelle, was bei einem normalen Python-Skript passieren würde."
   ]
  },
  {
   "cell_type": "code",
   "execution_count": null,
   "metadata": {
    "tags": []
   },
   "outputs": [],
   "source": [
    "print(say_hello_to(my_name))"
   ]
  },
  {
   "cell_type": "markdown",
   "metadata": {},
   "source": [
    "Die Funktion `say_hello_to()` kann mit dem Parameter `my_name` aufgerufen werden, obwohl weder die Funktion `say_hello_to()` noch die Variable `my_name` in der Code-Zelle definiert wurde. Es zeigt sich, dass die Ergebnisse jeder ausgeführten Code-Zelle auch nach ihrer Beending der Notebook-Umgebung zur Verfügung stehen. Damit ist die Reihenfolge der Ausführung bei einem Notebook entscheidend und muss beachtet werden!  \n",
    "Besonders bei der Importierung von Packeten sowie der Wiederverwendung von Funktionen und Variablen-Namen sollte dieses \"Gedächtnis\" des Notebooks beachtet werden. Soll das \"Gedächtnis\" gelöscht werden, muss der Kernel des Notebooks zurückgesetzt werden. Dies kann in der oberen Tool-Leiste durchgeführt werden."
   ]
  },
  {
   "cell_type": "markdown",
   "metadata": {},
   "source": [
    "### Python-Pakete\n",
    "\n",
    "Um beim Programmieren nicht alles selbst machen zu müssen, greifen wir auf Erfahrung anderer ProgrammiererInnen mittels Pakete zurück.\n",
    "Grundlage für die Datenaufbereitung sind die folgenden drei Pakete:\n",
    "\n",
    "1. ***Pandas*** für vereinfachte Datenmanipulation und -analyse\n",
    "2. ***NumPy*** für numerische Berechnungen und der Arbeit mit Matrizen\n",
    "3. ***Matplotlib*** für die Visualiserung (Diagramme, Histogramme, ...) von Daten\n",
    "\n",
    "Diese werden zu Begin unseres Notebooks mittels des folgenden Codes importiert."
   ]
  },
  {
   "cell_type": "code",
   "execution_count": null,
   "metadata": {},
   "outputs": [],
   "source": [
    "# Pakete importieren\n",
    "# ------------------\n",
    "\n",
    "# die Abkürzungen am besten beibehalten\n",
    "import pandas as pd\n",
    "import numpy as np\n",
    "import matplotlib.pyplot as plt"
   ]
  },
  {
   "cell_type": "markdown",
   "metadata": {},
   "source": [
    "So weit so gut! Nachdem wir uns nun etwas mit unserer Arbeitsoberfläche vertraut gemacht haben und die wichtigsten Pakete geladen haben, wollen wir uns mit zwei wichtigen Konzepten bei der Datenaufbereitung mit Python beschäftigen. ***Series*** und ***DataFrame*** welche Bestandteil des Paketes *Pandas* sind."
   ]
  },
  {
   "cell_type": "markdown",
   "metadata": {},
   "source": [
    "## *Series* und *DataFrame*"
   ]
  },
  {
   "cell_type": "markdown",
   "metadata": {},
   "source": [
    "### *Series* \n",
    "\n",
    "*Series* (zu Deutsch Serie/Reihe) stellen einfach ausgedrückt (Zeit-)Reihen dar, in denen Daten gespeichert sind. *Series* ermöglichen einen einfachen Zugang auf die grundlegenden Eigenschaften und Verarbeitungsformen der in ihnen enthaltenen Daten. Wie *Series* aus Python-Listen und Numpy-Arrays erstellt werden können, sehen wir in der nächsten Code-Zelle.\n",
    "\n",
    "Tipp: am besten jede *Series* mit `s_` beginnen um sie klar von anderen Python-Objekten unterscheiden zu können."
   ]
  },
  {
   "cell_type": "code",
   "execution_count": null,
   "metadata": {
    "tags": []
   },
   "outputs": [],
   "source": [
    "# Erstellungsmöglichkeiten von Series\n",
    "# -----------------------------------\n",
    "\n",
    "## Python-Listen können sehr einfach mit `pd.Series()` in eine Series umgewandelt werden.\n",
    "\n",
    "my_float_list = [1, 2, 3, 3, 2, 1, 1, 2, 3, 0]\n",
    "s_my_float_list = pd.Series(my_float_list)\n",
    "print(s_my_float_list)\n",
    "\n",
    "# Hinweis: np.random.random() erstellt eine gleichverteilte Zufallszahl aus dem Intervall 0 bis 1.\n",
    "random_float_list = [np.random.random() * 180 for i in range(10)]  \n",
    "s_random_float_list = pd.Series(random_float_list)\n",
    "print(s_random_float_list)\n",
    "\n",
    "## Es können auch NumPy-Objekte - Wie das `numpy.array` - genutzt werden.\n",
    "# Hinweis: np.random.random(10) erstellt zehn gleichverteilte Zufallszahl aus dem Intervall 0 bis 1.\n",
    "random_float_array = np.array(np.random.random(10)*180)\n",
    "s_random_float_array = pd.Series(random_float_array)\n",
    "display(s_random_float_array)  # bei Serien gibt es keinen Unterschied zwischen `print()` und `display()`.\n",
    "\n",
    "## Um auf einen bestimmten Wert zugreifen zu können, müssen - ähnlich zu einer Python-Liste - die eckigen Klammern '[]' verwendet werden.\n",
    "print(s_random_float_list[3])\n",
    "print(s_random_float_array[4])"
   ]
  },
  {
   "cell_type": "markdown",
   "metadata": {},
   "source": [
    "So weit so gut! Jetz bist du dran. Erstelle in der nächsten Code-Zelle die geforderten Objekte und überprüfe deinen Code mit der Lösung aus der übernächsten Code-Zelle. In der Code-Zelle mit den Lösungen wird `%load` (ein spezieller Befehl für Jupyter-Notebooks) genutzt, um die Lösung aus einer Datei zu laden. Führe also einfach die Code-Zelle aus, um die Lösung aufzurufen."
   ]
  },
  {
   "cell_type": "code",
   "execution_count": null,
   "metadata": {
    "scrolled": true,
    "tags": []
   },
   "outputs": [],
   "source": [
    "# N1A1: Serien erstellen\n",
    "# ----------------------\n",
    "\n",
    "# Erstelle die folgenden Series und gib sie aus.\n",
    "\n",
    "## Series mit 10 zufällig generierten Zahlen aus dem Bereich von 0 bis 1\n",
    "s_float = pd.Series(np.random.random())\n",
    "\n",
    "## Series mit 10 Elementen, aus der Menge M = {1,2,3,4,5,6}\n",
    "s_int = pd.Series(\n",
    "\n",
    "\n",
    "## Series mit 10 Vornamen (alles klein geschrieben)\n",
    "s_string = \n",
    "\n",
    "## Series `s_mix` mit 10 Einträgen, in der Zeichenketten, ganze Zahlen und Gleitkommazahlen vorkommen \n",
    "s_\n",
    "\n",
    "## Ausgabe aller Series\n",
    "\n"
   ]
  },
  {
   "cell_type": "code",
   "execution_count": null,
   "metadata": {},
   "outputs": [],
   "source": [
    "# Führe diese Code-Zelle aus, um die Lösung zu laden!\n",
    "%load \"./resources/N1A1_lsg.py\""
   ]
  },
  {
   "cell_type": "markdown",
   "metadata": {},
   "source": [
    "### Eigenschaften und Methoden von *Series*\n",
    "\n",
    "Betrachten wir uns die Ausgabe unserer *Series* fällt uns der `dtype` am unteren Ende jeder *Series* auf. Dieser gibt den (Daten-)Typ der in der vorliegenden *Serie* an, solange dieser Eindeutig ist.\n",
    "`dtype` stellt jedoch nur eine von vielen Eigenschaften dar, die eine Series besitzt. Durch `.`(Punkt) können wir auf diese Eigenschaften zugreifen und sie abrufen oder verändern.  \n",
    "Ein kleines Beispliel ist in der nächsten Code-Zelle zu sehen.\n"
   ]
  },
  {
   "cell_type": "code",
   "execution_count": null,
   "metadata": {
    "tags": []
   },
   "outputs": [],
   "source": [
    "# Eigenschaften einer Series\n",
    "# --------------------------\n",
    "\n",
    "print(s_float.dtype)\n",
    "print(s_int.dtype)\n",
    "print(s_string.dtype)\n",
    "display(s_mix.dtype)  # etwas unterschiedliche Darstellung beim `dtype`, wobei das 'O' für 'object' steht\n",
    "\n",
    "print(s_mix.index)"
   ]
  },
  {
   "cell_type": "markdown",
   "metadata": {},
   "source": [
    "Einer Übersicht aller möglichen Eigenschaften - sowie zusätzlicher Erklärungen - ist in der [Dokumentation](https://pandas.pydata.org/pandas-docs/stable/reference/series.html#attributes) zu finden. Nutze diese [Dokumentation](https://pandas.pydata.org/pandas-docs/stable/reference/series.html#attributes) um richtigen Eigenschaften herauszusuchen und somit die nächsten Aufgaben zu lösen."
   ]
  },
  {
   "cell_type": "code",
   "execution_count": null,
   "metadata": {
    "tags": []
   },
   "outputs": [],
   "source": [
    "# N1A2: Eigenschaften von Serien\n",
    "# ------------------------------\n",
    "\n",
    "# Erledige die folgenden Aufgaben und gib das Ergebnis aus.\n",
    "\n",
    "## Gib die Anzahl an Elementen in `s_float` zurück.\n",
    "print(s_float.)\n",
    "\n",
    "## überprüfe, ob `s_mix` und `s_string` den selben Datentyp besitzen\n",
    "print(s_mix == s_string)\n",
    "\n",
    "## gibt die Werte von `s_string` als Liste zurück\n",
    "print(\n",
    "\n",
    "## setze den index von von `s_int` auf `s_string`\n",
    "s_\n",
    "print(s_int)\n",
    "\n",
    "## setze den 4. Wert von `s_string` auf 'noname'\n",
    "s_string[]\n",
    "print(\n",
    "\n",
    "## stetze den 10. Wert von `s_max` auf `np.NaN`\n",
    "# Hinweis: `np.NaN` steht für \"Not a Number\" und wird häufig für fehlende oder fehlerhafte Werte verwendet\n",
    "\n",
    "print("
   ]
  },
  {
   "cell_type": "code",
   "execution_count": null,
   "metadata": {},
   "outputs": [],
   "source": [
    "# Führe diese Code-Zelle aus, um die Lösung zu laden!\n",
    "%load \"./resources/N1A2_lsg.py\""
   ]
  },
  {
   "cell_type": "markdown",
   "metadata": {},
   "source": [
    "Neben den eben besprochenen Eigenschaften besitzen *Series* auch Methoden, welche ebenfalls mittels `.`(Punkt) aufrufbar sind. Genau wie Funktionen besitzen diese Methoden immer ein Klammerpaar über das Parameter übergeben werden. Die Rückgabewerte können dabei neue *Series* oder wichtige Werte einer *Series* sein. In der nächsten Code-Zelle wird der Aufruf von Methoden einer *Series* kurz demonstriert. \n"
   ]
  },
  {
   "cell_type": "code",
   "execution_count": null,
   "metadata": {
    "tags": []
   },
   "outputs": [],
   "source": [
    "# Methoden von Series\n",
    "# -------------------\n",
    "\n",
    "# Die Methode `append()` \"klebt\" zwei Series hintereinder und erzeugt somit eine dritte Series.\n",
    "s_int_float = s_int.append(s_float)\n",
    "print(s_int_float)\n",
    "\n",
    "# Die Methode `max()` gibt den größten Wert einer Series mit numersichen Werten zurück\n",
    "max_s_int_float = s_int_float.max()\n",
    "print(f\"Der Maximalwert von s_float ist {max_s_int_float}\")"
   ]
  },
  {
   "cell_type": "markdown",
   "metadata": {},
   "source": [
    "Eine *Series* besitzt unzählige Methoden, welche in verschiedenen Situationen Anwendung finden. In dem folgenden [Teil der Dokumentation](https://pandas.pydata.org/pandas-docs/stable/reference/series.html#computations-descriptive-stats) werden Methoden für die Deskriptive(Beschreibende) Statistik vorgestellt. Dazu gehören Maximas, Minimas, absolute Beträge und vieles mehr. Suche die richtigen Methoden aus diesem [Teil der Dokumentation](https://pandas.pydata.org/pandas-docs/stable/reference/series.html#computations-descriptive-stats) um die folgenden Aufgaben zu lösen."
   ]
  },
  {
   "cell_type": "code",
   "execution_count": null,
   "metadata": {
    "tags": []
   },
   "outputs": [],
   "source": [
    "# N1A3: Methoden von Series\n",
    "# -------------------------\n",
    "\n",
    "## gibt die Anzahl aller Werte in `s_mix` aus, die nicht `np.NaN` sind.\n",
    "print(s_mix.count\n",
    "\n",
    "## Gib die Summe aller Werte von `s_int` aus\n",
    "print(s_float\n",
    "\n",
    "## Gib den Mittelwert(mean) und die Standardabweichung(standard deviation) von `s_int` aus.\n",
    "print(s_int\n",
    "\n",
    "## gib alle vorhandenen (eindeutigen) Elemente von `s_int` aus.\n",
    "print(\n",
    "\n",
    "## Gib die 3 größten Werte von `s_float` aus.\n",
    "print("
   ]
  },
  {
   "cell_type": "code",
   "execution_count": null,
   "metadata": {},
   "outputs": [],
   "source": [
    "# Führe diese Code-Zelle aus, um die Lösung zu laden!\n",
    "%load \"./resources/N1A3_lsg.py\""
   ]
  },
  {
   "cell_type": "markdown",
   "metadata": {},
   "source": [
    "Besonders interessant ist die Methode `apply()` ([Dokumentation](https://pandas.pydata.org/pandas-docs/stable/reference/api/pandas.Series.apply.html#pandas.Series.apply)), welche eine Funktion auf jeden Wert einer Serie ausführt und diesen somit anpassen kann. Ein kleines Beispiel dafür ist in der nächsten Code-Zelle zu sehen."
   ]
  },
  {
   "cell_type": "code",
   "execution_count": null,
   "metadata": {
    "tags": []
   },
   "outputs": [],
   "source": [
    "# `apply()`-Methode\n",
    "# -----------------\n",
    "\n",
    "# Der erste Buchstabe jeder unserer Vornamen in `s_string` wird Groß geschrieben, solange der Vorname nicht \"noname\" ist.\n",
    "def capitalize_if_not_noname(value):\n",
    "    if not value == \"noname\":\n",
    "        return value.capitalize()\n",
    "    else:\n",
    "        return value\n",
    "\n",
    "s_cap_string = s_string.apply(capitalize_if_not_noname)\n",
    "print(s_cap_string)"
   ]
  },
  {
   "cell_type": "markdown",
   "metadata": {},
   "source": [
    "Durch die `apply`-Methode kann eine *Series* auf die nächsten Arbeitstschritte und Berechnungen vorbereitet werden. Zudem wird durch die Parameterübergabe an `args=` die von  der `apply`-Methode genutzte Funktion weiter beeinflusst (Siehe nächste Code-Zelle). Deshalb ist die `apply()`-Methode so ein flexibles und mächtigens Werzeug deren \n",
    "[Dokumentation](https://pandas.pydata.org/pandas-docs/stable/reference/series.html#function-application-groupby-window) einen Blick wert ist."
   ]
  },
  {
   "cell_type": "code",
   "execution_count": null,
   "metadata": {
    "tags": []
   },
   "outputs": [],
   "source": [
    "# Funktion, die 3 Parameter besitzt und von uns im weiteren Verlauf an die `apply`-Methode übergeben wird.\n",
    "def boolean_grading (grade, pos_grades, neg_grades):\n",
    "    if grade in pos_grades:\n",
    "        return True\n",
    "    elif grade in neg_grades:\n",
    "        return False\n",
    "    else:\n",
    "        raise ValueError\n",
    "\n",
    "\n",
    "print(\"Überprüfung auf Bestanden/Durchgefallen:\")\n",
    "passing_grades = [1,2,3,4]\n",
    "failing_grades = [5,6]\n",
    "# Die beiden Listen `passing_grades` und `failing_grades` werden mittels `args=` an die Funktion\n",
    "# `boolean_grading` übergeben und nehmen dort die Position von `pos_grades` und `neg_grades` ein\n",
    "passed_s_int = s_int.apply(boolean_grading, args=(passing_grades,failing_grades))\n",
    "print(passed_s_int)\n",
    "\n",
    "s_passed_count = passed_s_int.value_counts()\n",
    "s_passed_count.index = [\"passed\",\"failed\"]\n",
    "print(s_passed_count)\n",
    "\n",
    "\n",
    "print(\"\\nÜberprüfung auf 1 und 2:\")\n",
    "good_and_great_grades = [1,2]\n",
    "other_grades = [3,4,5,6]\n",
    "# Die beiden Listen `good_and_great_grades` und `other_grades` werden mittels `args=` an die Funktion\n",
    "# `boolean_grading` übergeben und nehmen dort die Position von `pos_grades` und `neg_grades` ein\n",
    "good_and_great_s_int = s_int.apply(\n",
    "    boolean_grading,\n",
    "    args=(good_and_great_grades,other_grades)\n",
    ")\n",
    "print(good_and_great_s_int)\n",
    "\n",
    "s_good_great_count = good_and_great_s_int.value_counts()\n",
    "s_good_great_count.index = [\"1 or 2\", \"other\"]\n",
    "print(s_good_great_count)\n",
    "!!!replace mit aufnehmen"
   ]
  },
  {
   "cell_type": "markdown",
   "metadata": {},
   "source": [
    "Neben den bereits betrachteten Methoden gibt es viele andere die Anwendung finden. Eine nach Aufgabenbereich strukturierte Übersicht ist in der [Dokumentation zu Series](https://pandas.pydata.org/pandas-docs/stable/reference/series.html) zu finden.\n",
    "\n",
    "*Series* bieten viele Möglichkeiten der Arbeit mit Daten und Analyse von Daten. Typischerweise kommen Daten jedoch nicht nur in (Zeit-)Reihen vor sondern gemeinsam, weshalb das *DataFrame* eine wichtiege Erweiterung der *Series* darstellt."
   ]
  },
  {
   "cell_type": "markdown",
   "metadata": {},
   "source": [
    "### DataFrame"
   ]
  },
  {
   "cell_type": "code",
   "execution_count": null,
   "metadata": {},
   "outputs": [],
   "source": [
    "# Pakete importieren\n",
    "# ------------------\n",
    "\n",
    "# Die wichtigesten Pakete werden erneut importiert, um das Kapitel für sich betrachten zu können.\n",
    "import pandas as pd\n",
    "import numpy as np\n",
    "import matplotlib.pyplot as plt"
   ]
  },
  {
   "cell_type": "markdown",
   "metadata": {},
   "source": [
    "\n",
    "\n",
    "Wie bereits erwähnt stellt eine *Series* eine (Zeit-)Reihe dar und besteht (neben vielen anderen Komponenten wie Datentyp, Name, ...) aus einem Index und der Daten/Werte. Sollen mehrere *Series* miteinander verbunden werden ist das *DataFrame* genau richtig. \n",
    "\n",
    "Im Gegensatz zu einer *Series* welche - abgesehen vom Index - nur eine Spalte mit Werten besitzt, kann ein *DataFrame* beliebig viele Spalten in Tabellenform speichern.\n",
    "![DataFrame_image](https://www.geeksforgeeks.org/wp-content/uploads/creating_dataframe1.png)"
   ]
  },
  {
   "source": [
    "In der nächsten Code-Zelle werden verschiedene Möglichkeiten vorgestellt ein *DataFrame* zu erstellen.\n",
    "\n",
    "Tipp: Wir empfehlen - ähnlich wie `s_` bei den *Series* - jedes *DataFrame* mit `df_` zu beginnen."
   ],
   "cell_type": "markdown",
   "metadata": {}
  },
  {
   "cell_type": "code",
   "execution_count": 1,
   "metadata": {
    "tags": []
   },
   "outputs": [
    {
     "output_type": "error",
     "ename": "NameError",
     "evalue": "name 'pd' is not defined",
     "traceback": [
      "\u001b[0;31m---------------------------------------------------------------------------\u001b[0m",
      "\u001b[0;31mNameError\u001b[0m                                 Traceback (most recent call last)",
      "\u001b[0;32m<ipython-input-1-2cce6d99b1f6>\u001b[0m in \u001b[0;36m<module>\u001b[0;34m\u001b[0m\n\u001b[1;32m      8\u001b[0m     \u001b[0;34m\"cost\"\u001b[0m\u001b[0;34m:\u001b[0m \u001b[0;34m[\u001b[0m\u001b[0;36m2.0\u001b[0m\u001b[0;34m,\u001b[0m \u001b[0;36m3.45\u001b[0m\u001b[0;34m,\u001b[0m \u001b[0;36m5.12\u001b[0m\u001b[0;34m,\u001b[0m \u001b[0;36m1.12\u001b[0m\u001b[0;34m]\u001b[0m  \u001b[0;31m# in Euro\u001b[0m\u001b[0;34m\u001b[0m\u001b[0;34m\u001b[0m\u001b[0m\n\u001b[1;32m      9\u001b[0m }\n\u001b[0;32m---> 10\u001b[0;31m \u001b[0mdf_fruit\u001b[0m \u001b[0;34m=\u001b[0m \u001b[0mpd\u001b[0m\u001b[0;34m.\u001b[0m\u001b[0mDataFrame\u001b[0m\u001b[0;34m(\u001b[0m\u001b[0mfruit_dict\u001b[0m\u001b[0;34m)\u001b[0m\u001b[0;34m\u001b[0m\u001b[0;34m\u001b[0m\u001b[0m\n\u001b[0m\u001b[1;32m     11\u001b[0m \u001b[0mprint\u001b[0m\u001b[0;34m(\u001b[0m\u001b[0mdf_fruit\u001b[0m\u001b[0;34m)\u001b[0m\u001b[0;34m\u001b[0m\u001b[0;34m\u001b[0m\u001b[0m\n\u001b[1;32m     12\u001b[0m \u001b[0mdisplay\u001b[0m\u001b[0;34m(\u001b[0m\u001b[0mdf_fruit\u001b[0m\u001b[0;34m)\u001b[0m\u001b[0;34m\u001b[0m\u001b[0;34m\u001b[0m\u001b[0m\n",
      "\u001b[0;31mNameError\u001b[0m: name 'pd' is not defined"
     ]
    }
   ],
   "source": [
    "# Erstellung eines DataFrame\n",
    "# --------------------------\n",
    "\n",
    "## Erstellung eines DataFrame aus einem Dictionairy\n",
    "fruit_dict = {\n",
    "    \"name\": [\"Apple\", \"Pears\", \"iuate\", \"itaer\"],\n",
    "    \"numbers\": [10, 14, 16, 100],\n",
    "    \"cost\": [2.0, 3.45, 5.12, 1.12]  # in Euro\n",
    "}\n",
    "df_fruit = pd.DataFrame(fruit_dict)\n",
    "print(df_fruit)\n",
    "display(df_fruit)  \n",
    "# `display()` gibt einen wesentlich besseren Blick auf ein DataFrame\n",
    "# und sollte daher immer für diese verwendet werden.\n",
    "\n",
    "## Erstellung eines DataFrame durch \"zusammenfügen\" mehrer Series\n",
    "s_int = pd.Series([1, 5, 6, 3, 2, 1, 4, 5, 2, 1])\n",
    "s_string = pd.Series([\"alex\", \"paul\", \"paula\", \"erika\", \"jan\",\"karl\", \"vlad\", \"franzi\", \"bine\", \"flo\"])\n",
    "s_float = pd.Series(np.random.normal(173, 10, 10))  # 10 normalverteilte Werte mit Mittelwert 173 und Std von 10\n",
    "df_grades = pd.DataFrame()  # anlegen eines leeren DataFrame's\n",
    "# Die Series werden dem DataFrame `df_grades` als neue Spalten hinzugefügt. <-- Das ist sehr nützlich!!!\n",
    "df_grades[\"name\"] = s_string\n",
    "df_grades[\"grade\"] = s_int\n",
    "df_grades[\"size\"] = s_float\n",
    "display(df_grades)\n",
    "\n",
    "## Erstellung eines DataFrame aus einer CSV-Datei\n",
    "df_football = pd.read_csv(\"W1_csv-file.csv\")\n",
    "display(df_football)"
   ]
  },
  {
   "source": [
    "Nun betrachten wir uns in der nächsten Code-Zelle verschiedene Zugriffsmöglichkeiten auf die Spalten und Zeilen eines *DataFrame*."
   ],
   "cell_type": "markdown",
   "metadata": {}
  },
  {
   "cell_type": "code",
   "execution_count": null,
   "metadata": {},
   "outputs": [],
   "source": [
    "# Zugriff auf ein DataFrame mittels `[]` und `iloc[]`\n",
    "# ---------------------------------------------------\n",
    "\n",
    "## Zugriff auf eine Spalte (Rückgabewert ist eine Series) \n",
    "s_fruit_name = df_fruit[\"name\"] # Name der Spalte wird als String in \"[]\" übergeben\n",
    "display(s_fruit_name)  \n",
    "\n",
    "## Zugriff auf mehrere Spalten (Rückgabewert ist ein DataFrame)\n",
    "display(df_fruit[[\"name\", \"cost\"]])  # Namen der Spalten werden als Python-Liste übergeben\n",
    "\n",
    "## Zugriff auf einen/mehrer Indizies  mittels `iloc[]`\n",
    "display(df_grades.iloc[1])  # Rückgabewert ist eine Series\n",
    "display(df_grades.iloc[[2,3,4]]) # Rückgabewert ist ein DataFrame\n",
    "display(df_grades.iloc[2:8]) # Bereichsangabe wie bei einer Python-Liste"
   ]
  },
  {
   "cell_type": "markdown",
   "metadata": {},
   "source": [
    "#### Eigenschaften und Methoden eines *DataFrame*\n",
    "Genau wie eine *Series* besitzt auch ein *DataFrame* Eigenschaften und Methoden zur Datenverarbeitung, -bearbeitung und -analyse. Auf diese Methoden und Eigenschaften werden auch mittels `.` (Punkt) zugreifen. In der nächsten Code-Zelle sind einige Beispiele von Eigenschaften und Methoden zu sehen, welche sich DataFrame und Serie teilen. Mehr Informationen zu den Eigenschaften und Methoden eines DataFrame's sind (wie immer) in der [Dokumentation](https://pandas.pydata.org/pandas-docs/stable/reference/frame.html) zu finden."
   ]
  },
  {
   "cell_type": "code",
   "execution_count": null,
   "metadata": {
    "tags": []
   },
   "outputs": [],
   "source": [
    "# Eigenschaften und Methoden eines DataFrame\n",
    "# ------------------------------------------\n",
    "\n",
    "print(\"Einige Eigenschaften und Methoden die DataFrame's und Series gemeinsman haben:\")\n",
    "print(\n",
    "    df_grades.index,\n",
    "    df_grades.size,\n",
    "    df_grades.shape,\n",
    "    df_grades.count(),\n",
    "    df_grades.isna(),\n",
    "    sep=\"\\n\\n\"\n",
    ")"
   ]
  },
  {
   "cell_type": "markdown",
   "metadata": {},
   "source": [
    "Es gibt jedoch auch Eigenschaften und Methoden die lediglich Teil eines *DataFrame* sind. Beispielsweise zeigt die Eigenschaft `columns` die Spaltennamen an, was für eine *Series* keinen Sinn ergibt. Ein weiter Beispiel ist die sehr nützliche `query()`-Methode ([Dokumentation](https://pandas.pydata.org/pandas-docs/stable/reference/api/pandas.DataFrame.query.html#pandas.DataFrame.query)) welche das Filtern eines *DataFrame*'s ermöglicht."
   ]
  },
  {
   "cell_type": "code",
   "execution_count": null,
   "metadata": {},
   "outputs": [],
   "source": [
    "print(\"\\n\\nEigenschaften und Methoden die nur ein DataFrame besitzt:\\n\")\n",
    "print(df_grades.columns)\n",
    "display(df_grades.query(\"grade <= 2\"))  # zeigt alle Einträge an, deren Note besser oder gleich 2 ist"
   ]
  },
  {
   "cell_type": "markdown",
   "metadata": {},
   "source": [
    "In der nächsten Code-Zelle sind einige Aufgaben zu sehen, deren Lösung die Benutzung wichtiger Methoden eines DataFrame benötigen.\n",
    "Nutze die Suchfunktion in der [Dokumentation zu DataFrame's](https://pandas.pydata.org/pandas-docs/stable/reference/frame.html#attributes-and-underlying-data) und das Internet um die Aufgaben zu lösen."
   ]
  },
  {
   "cell_type": "code",
   "execution_count": null,
   "metadata": {},
   "outputs": [],
   "source": [
    "# N1A4: Umgang mit DataFrame\n",
    "# --------------------------\n",
    "\n",
    "# Löse die folgenden Aufgaben und gib das Ergebnis aus.\n",
    "\n",
    "## gib für `df_grades` alle Einträge aus, die größer sind als 170\n",
    "display(df_grades.query(\n",
    "\n",
    "## Zeige an, wie die Noten in `df_grades` verteilt sind\n",
    "df_grouped_grades = df_grades.g.count()\n",
    "display(df_grouped_grades)\n",
    "\n",
    "## Ändere die Spaltenüberschriften für `df_fruit` in die deutschen Übersetzungen\n",
    "df_fruit.c\n",
    "display(df_fruit)\n",
    "\n",
    "## zeige in `df_fruit` lediglich die erste und letzt Spalte an\n",
    "display(df_fuit[\n",
    "\n",
    "## bestimme den Mittelwert(mean) und die Standardabweichung(standard deviation) der Spalte `size` von `df_grades`\n",
    "print(\n",
    "\n",
    "## Sortiere das DataFrame `df_grades` absteigend nach der Größe (sort_values)\n",
    "display(df_grades.sort\n",
    "\n",
    "## ändere den ersten Buchstaben aller Namen in der Spalte `name` in `df_grades` in Großbuchstaben\n",
    "def cap():\n",
    "    pass\n",
    "s_caped_names = df_grades[\"names\"].a\n",
    "df_grades[\n",
    "dispaly(df_grades)"
   ]
  },
  {
   "cell_type": "code",
   "execution_count": null,
   "metadata": {},
   "outputs": [],
   "source": [
    "# Führe diese Code-Zelle aus, um die Lösung zu laden!\n",
    "%load \"./resources/N1AA_lsg.py\""
   ]
  },
  {
   "cell_type": "markdown",
   "metadata": {},
   "source": [
    "### Visualisierung von *Series* und *DataFrame*'s\n",
    "\n",
    "Zur Visualisierung wird normalerweise das Paket *Matplotlib* verwendet, welches weiter oben bereits von uns mittels `import matplotlib.pyplot` importiert wurde und uns im weiteren Verlauf mit `plt` zur Verfügung steht. Der größte Teil der Visualisierung wird jedoch über die *Series* und dem *DataFrame* durchgeführt. Auf die verschiedenen Visualiserungsmöglichkeiten wird hierbei mittels Methoden zugegriffen, die von dem jeweiligen Objekt (*Series* oder *DataFrame*) aufgerufen werden. Hier ein kleines Beispiel."
   ]
  },
  {
   "cell_type": "code",
   "execution_count": null,
   "metadata": {},
   "outputs": [],
   "source": [
    "# Visualisierung\n",
    "# --------------\n",
    "\n",
    "import matplotlib.pyplot as plt\n",
    "\n",
    "# https://pandas.pydata.org/pandas-docs/stable/user_guide/visualization.html\n",
    "\n",
    "df_grades.plot.line()  # Erstellt ein Liniendiagramm \n",
    "df_grades.plot.hist()  # erstellt ein Histogramm"
   ]
  },
  {
   "cell_type": "markdown",
   "metadata": {},
   "source": [
    "Wie in der oberen Code-Zelle zu sehen ist wird mit `plot` anzeigt, dass etwas visualisiert (\"geplottet\") werden soll. Der auf den Befehl `plot` folgende Methodenname entscheidet dann welche der vielen verschiedenen Visualisierungsmöglichkeiten verwendet wird. Veränderungswünsche und Einstellungen werden mittels der Parameterübergabe an die gewählte Methode durchgeführt. In der nächsten Code-Zelle ist ein kleines Beispiel für weitere Methoden der Visualisierung und der Parameterübergabe zu sehen."
   ]
  },
  {
   "cell_type": "code",
   "execution_count": null,
   "metadata": {},
   "outputs": [],
   "source": [
    "# Histogramm für die Spalte `grade` vom DataFrame `df_grades` mit Zusatzeinstellungen\n",
    "df_grades[\"grade\"].plot.hist(bins=6, grid=False)\n",
    "# stellt die beiden Spalten `name` und `size` in einem Scatter-Diagramm mit Roten Punkten dar\n",
    "df_grades.plot.scatter(x=\"name\", y=\"size\", c=\"red\")\n",
    "# stellt die Verteilung der Noten als Kreisdiagramm dar, wobei die Spalte `name` enthällt die Anzahlen der Noten enthällt\n",
    "df_grades.groupby(\"grade\").count().plot.pie(y=\"name\", use_index = True) "
   ]
  },
  {
   "cell_type": "markdown",
   "metadata": {},
   "source": [
    "## Zusammenfassungen:\n",
    "\n",
    "Beim Druchgehen des Notebooks wurden die folgenden Themen besprochen\n",
    "\n",
    "- Ein Jupyter-Notebook stellt eine nützliches Arbeitsoberfläche für die Datenaufbereitung dar\n",
    "- Zur Arbeit mit Daten werden die Pakete Pandas, NumPy und Matplotlib verwendet\n",
    "- Eine *Series* ist ein Pandas-Objekt, welches als (Zeit-)Reihe mit Eigenschaften und Methoden verstanden werden kann\n",
    "- Ein DataFrame ist ein Pandas-Objekt, welches als eine Tabelle mit Eigenschaften und Methoden verstanden werden kann\n",
    "- Die Arbeit mit Pandas-Objekten geschieht über die eben erwähnten Eigenschaften und Methoden, welche mit `'.'` (Punkt) erreichbar sind\n",
    "- Zur Visualisierung werden die verschiedenen `plot`-Methoden verwendet, deren Konfiguration über Parameterübergabe geschieht\n",
    "\n",
    "## Schlusswort\n",
    "\n",
    "Durch dieses Notebook wurden nur grundlegende Werkzeuge bereitgestellt um die Programmiersprache Python im Rahmen von Data Science zu verwenden.  \n",
    "Es liegt nun an dir diese Werkzeuge zu erproben, zu nutzen und den Werkzeugkasten auszubauen. Durch Verwendung der Dokumentation und des Internets ist es möglich fast alle Aufgaben zu lösen und Probleme zu bewältigen. Python stellt alle dafür notwendigen Funktion zur Verfügung. "
   ]
  }
 ],
 "metadata": {
  "kernelspec": {
   "display_name": "Python 3",
   "language": "python",
   "name": "python3"
  },
  "language_info": {
   "codemirror_mode": {
    "name": "ipython",
    "version": 3
   },
   "file_extension": ".py",
   "mimetype": "text/x-python",
   "name": "python",
   "nbconvert_exporter": "python",
   "pygments_lexer": "ipython3",
   "version": "3.8.5-final"
  }
 },
 "nbformat": 4,
 "nbformat_minor": 2
}